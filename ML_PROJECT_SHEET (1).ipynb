{
  "nbformat": 4,
  "nbformat_minor": 0,
  "metadata": {
    "colab": {
      "provenance": [],
      "gpuType": "T4"
    },
    "kernelspec": {
      "name": "python3",
      "display_name": "Python 3"
    },
    "language_info": {
      "name": "python"
    },
    "accelerator": "GPU"
  },
  "cells": [
    {
      "cell_type": "code",
      "execution_count": 11,
      "metadata": {
        "colab": {
          "base_uri": "https://localhost:8080/"
        },
        "id": "C75Rit9_nQyi",
        "outputId": "20487423-05f4-4f26-f940-515d20bae113"
      },
      "outputs": [
        {
          "output_type": "stream",
          "name": "stdout",
          "text": [
            "Mounted at /content/drive\n"
          ]
        }
      ],
      "source": [
        "from google.colab import drive\n",
        "drive.mount('/content/drive')\n"
      ]
    },
    {
      "cell_type": "code",
      "source": [
        "dataset_path = '/content/drive/MyDrive/Colab Notebooks/plant_village_datatset/archive (7)/PlantVillage/'\n"
      ],
      "metadata": {
        "id": "8jcK4j5w0LcP"
      },
      "execution_count": 12,
      "outputs": []
    },
    {
      "cell_type": "code",
      "source": [
        "import os\n",
        "\n",
        "print(os.listdir(dataset_path))\n",
        "\n"
      ],
      "metadata": {
        "colab": {
          "base_uri": "https://localhost:8080/"
        },
        "id": "yqxJqEYN1bL5",
        "outputId": "8e515bf5-1fab-4601-8e85-30bc207d2963"
      },
      "execution_count": 13,
      "outputs": [
        {
          "output_type": "stream",
          "name": "stdout",
          "text": [
            "['Tomato__Tomato_YellowLeaf__Curl_Virus', 'Tomato__Tomato_mosaic_virus', 'Tomato_Septoria_leaf_spot', 'Tomato__Target_Spot', 'Tomato_Leaf_Mold', 'Tomato_Spider_mites_Two_spotted_spider_mite', 'Tomato_Late_blight', 'Tomato_Early_blight', 'Tomato_Bacterial_spot', 'Tomato_healthy', 'Potato___healthy', 'Potato___Late_blight', 'Pepper__bell___Bacterial_spot', 'Pepper__bell___healthy', 'Potato___Early_blight']\n"
          ]
        }
      ]
    },
    {
      "cell_type": "code",
      "source": [
        "!cp -r \"/content/drive/MyDrive/Colab Notebooks/plant_village_datatset/archive (7)/PlantVillage/\" /content/\n",
        "dataset_path = \"/content/PlantVillage/\"\n",
        "\n"
      ],
      "metadata": {
        "id": "BTRk0pMb50Db"
      },
      "execution_count": 14,
      "outputs": []
    },
    {
      "cell_type": "code",
      "source": [
        "import os\n",
        "import matplotlib.pyplot as plt\n",
        "from tensorflow.keras.preprocessing.image import ImageDataGenerator\n",
        "from tensorflow.keras.models import Model\n",
        "from tensorflow.keras.layers import Dense, GlobalAveragePooling2D, Dropout\n",
        "from tensorflow.keras.applications import MobileNetV2\n",
        "from tensorflow.keras.optimizers import Adam\n",
        "import os\n",
        "import random\n",
        "import shutil\n",
        "from tensorflow.keras.preprocessing.image import ImageDataGenerator\n",
        "\n",
        "\n"
      ],
      "metadata": {
        "id": "lV_fypEb2Jr3"
      },
      "execution_count": 15,
      "outputs": []
    },
    {
      "cell_type": "markdown",
      "source": [],
      "metadata": {
        "id": "ep9UzIwL6Uhl"
      }
    },
    {
      "cell_type": "code",
      "source": [
        "original_dir = \"/content/PlantVillage/\"\n",
        "test_dir = \"/content/PlantVillage_test/\"\n",
        "\n",
        "os.makedirs(test_dir, exist_ok=True)\n"
      ],
      "metadata": {
        "id": "2AcKE1n_8sus"
      },
      "execution_count": 16,
      "outputs": []
    },
    {
      "cell_type": "code",
      "source": [
        "for class_name in os.listdir(original_dir):\n",
        "    class_path = os.path.join(original_dir, class_name)\n",
        "    if not os.path.isdir(class_path):\n",
        "        continue\n",
        "\n",
        "    images = os.listdir(class_path)\n",
        "    random.shuffle(images)\n",
        "    n_test = int(0.1 * len(images))  # 10% of images\n",
        "\n",
        "    test_images = images[:n_test]\n",
        "\n",
        "    # create class folder in test_dir\n",
        "    test_class_dir = os.path.join(test_dir, class_name)\n",
        "    os.makedirs(test_class_dir, exist_ok=True)\n",
        "\n",
        "    # move images to test folder\n",
        "    for img in test_images:\n",
        "        shutil.move(os.path.join(class_path, img), os.path.join(test_class_dir, img))\n"
      ],
      "metadata": {
        "id": "xb1OKO7F2Lyc"
      },
      "execution_count": 17,
      "outputs": []
    },
    {
      "cell_type": "code",
      "source": [
        "img_size = (224, 224)\n",
        "batch_size = 32\n",
        "\n",
        "# Train + Validation\n",
        "train_val_datagen = ImageDataGenerator(\n",
        "    rescale=1./255,\n",
        "    rotation_range=20,\n",
        "    zoom_range=0.2,\n",
        "    width_shift_range=0.2,\n",
        "    height_shift_range=0.2,\n",
        "    horizontal_flip=True,\n",
        "    validation_split=0.125  # ~12.5% of remaining images for validation\n",
        ")\n",
        "\n",
        "train_generator = train_val_datagen.flow_from_directory(\n",
        "    original_dir,\n",
        "    target_size=img_size,\n",
        "    batch_size=batch_size,\n",
        "    subset='training',\n",
        "    color_mode='rgb'\n",
        ")\n",
        "\n",
        "val_generator = train_val_datagen.flow_from_directory(\n",
        "    original_dir,\n",
        "    target_size=img_size,\n",
        "    batch_size=batch_size,\n",
        "    subset='validation',\n",
        "    color_mode='rgb'\n",
        ")\n",
        "\n",
        "# Test set\n",
        "test_datagen = ImageDataGenerator(rescale=1./255)\n",
        "\n",
        "test_generator = test_datagen.flow_from_directory(\n",
        "    test_dir,\n",
        "    target_size=img_size,\n",
        "    batch_size=batch_size,\n",
        "    color_mode='rgb',\n",
        "    shuffle=False\n",
        ")\n",
        "\n"
      ],
      "metadata": {
        "id": "UF8Upxiq28Np",
        "colab": {
          "base_uri": "https://localhost:8080/"
        },
        "outputId": "45a2323e-8a09-4a66-972a-6c39de115304"
      },
      "execution_count": 18,
      "outputs": [
        {
          "output_type": "stream",
          "name": "stdout",
          "text": [
            "Found 16262 images belonging to 15 classes.\n",
            "Found 2318 images belonging to 15 classes.\n",
            "Found 2058 images belonging to 15 classes.\n"
          ]
        }
      ]
    },
    {
      "cell_type": "code",
      "source": [
        "from tensorflow.keras.applications import MobileNetV2\n",
        "from tensorflow.keras.layers import Dense, GlobalAveragePooling2D, Dropout\n",
        "from tensorflow.keras.models import Model\n",
        "\n",
        "# Load pretrained MobileNetV2 without top layers\n",
        "base_model = MobileNetV2(weights='imagenet', include_top=False, input_shape=(224,224,3))\n",
        "base_model.trainable = False  # Freeze base layers for feature extraction\n",
        "\n",
        "# Add custom classification layers\n",
        "x = base_model.output\n",
        "x = GlobalAveragePooling2D()(x)\n",
        "x = Dense(128, activation='relu')(x)\n",
        "x = Dropout(0.3)(x)\n",
        "predictions = Dense(train_generator.num_classes, activation='softmax')(x)\n",
        "\n",
        "# Complete model\n",
        "model = Model(inputs=base_model.input, outputs=predictions)\n"
      ],
      "metadata": {
        "id": "NHy4UGOh2_mO",
        "colab": {
          "base_uri": "https://localhost:8080/"
        },
        "outputId": "c8d49f4a-0468-4228-a574-5a136d5029ad"
      },
      "execution_count": 19,
      "outputs": [
        {
          "output_type": "stream",
          "name": "stdout",
          "text": [
            "Downloading data from https://storage.googleapis.com/tensorflow/keras-applications/mobilenet_v2/mobilenet_v2_weights_tf_dim_ordering_tf_kernels_1.0_224_no_top.h5\n",
            "\u001b[1m9406464/9406464\u001b[0m \u001b[32m━━━━━━━━━━━━━━━━━━━━\u001b[0m\u001b[37m\u001b[0m \u001b[1m0s\u001b[0m 0us/step\n"
          ]
        }
      ]
    },
    {
      "cell_type": "code",
      "source": [
        "from tensorflow.keras.optimizers import Adam\n",
        "\n",
        "model.compile(\n",
        "    optimizer=Adam(learning_rate=0.001),\n",
        "    loss='categorical_crossentropy',\n",
        "    metrics=['accuracy']\n",
        ")\n",
        "\n"
      ],
      "metadata": {
        "id": "cKe1WEzk3C9b"
      },
      "execution_count": 20,
      "outputs": []
    },
    {
      "cell_type": "code",
      "source": [
        "history = model.fit(\n",
        "    train_generator,\n",
        "    validation_data=val_generator,\n",
        "    epochs=15\n",
        ")\n",
        "\n"
      ],
      "metadata": {
        "id": "5GEfuTD83XsN",
        "colab": {
          "base_uri": "https://localhost:8080/"
        },
        "outputId": "12e4e187-78c6-45af-aaf2-c864ac361853"
      },
      "execution_count": null,
      "outputs": [
        {
          "output_type": "stream",
          "name": "stderr",
          "text": [
            "/usr/local/lib/python3.12/dist-packages/keras/src/trainers/data_adapters/py_dataset_adapter.py:121: UserWarning: Your `PyDataset` class should call `super().__init__(**kwargs)` in its constructor. `**kwargs` can include `workers`, `use_multiprocessing`, `max_queue_size`. Do not pass these arguments to `fit()`, as they will be ignored.\n",
            "  self._warn_if_super_not_called()\n"
          ]
        },
        {
          "output_type": "stream",
          "name": "stdout",
          "text": [
            "Epoch 1/15\n",
            "\u001b[1m509/509\u001b[0m \u001b[32m━━━━━━━━━━━━━━━━━━━━\u001b[0m\u001b[37m\u001b[0m \u001b[1m0s\u001b[0m 2s/step - accuracy: 0.5749 - loss: 1.3611"
          ]
        }
      ]
    },
    {
      "cell_type": "code",
      "source": [
        "# Unfreeze last 50 layers for fine-tuning\n",
        "base_model.trainable = True\n",
        "for layer in base_model.layers[:-50]:\n",
        "    layer.trainable = False\n",
        "\n",
        "model.compile(\n",
        "    optimizer=Adam(learning_rate=1e-5),\n",
        "    loss='categorical_crossentropy',\n",
        "    metrics=['accuracy']\n",
        ")\n",
        "\n",
        "history_finetune = model.fit(\n",
        "    train_generator,\n",
        "    validation_data=val_generator,\n",
        "    epochs=15\n",
        ")\n",
        "\n"
      ],
      "metadata": {
        "id": "4jGOOTca4wVp",
        "colab": {
          "base_uri": "https://localhost:8080/",
          "height": 211
        },
        "outputId": "2f7ca6fe-b59e-4248-b121-54bcccad874d"
      },
      "execution_count": 18,
      "outputs": [
        {
          "output_type": "error",
          "ename": "NameError",
          "evalue": "name 'base_model' is not defined",
          "traceback": [
            "\u001b[0;31m---------------------------------------------------------------------------\u001b[0m",
            "\u001b[0;31mNameError\u001b[0m                                 Traceback (most recent call last)",
            "\u001b[0;32m/tmp/ipython-input-1404460419.py\u001b[0m in \u001b[0;36m<cell line: 0>\u001b[0;34m()\u001b[0m\n\u001b[1;32m      1\u001b[0m \u001b[0;31m# Unfreeze last 50 layers for fine-tuning\u001b[0m\u001b[0;34m\u001b[0m\u001b[0;34m\u001b[0m\u001b[0m\n\u001b[0;32m----> 2\u001b[0;31m \u001b[0mbase_model\u001b[0m\u001b[0;34m.\u001b[0m\u001b[0mtrainable\u001b[0m \u001b[0;34m=\u001b[0m \u001b[0;32mTrue\u001b[0m\u001b[0;34m\u001b[0m\u001b[0;34m\u001b[0m\u001b[0m\n\u001b[0m\u001b[1;32m      3\u001b[0m \u001b[0;32mfor\u001b[0m \u001b[0mlayer\u001b[0m \u001b[0;32min\u001b[0m \u001b[0mbase_model\u001b[0m\u001b[0;34m.\u001b[0m\u001b[0mlayers\u001b[0m\u001b[0;34m[\u001b[0m\u001b[0;34m:\u001b[0m\u001b[0;34m-\u001b[0m\u001b[0;36m50\u001b[0m\u001b[0;34m]\u001b[0m\u001b[0;34m:\u001b[0m\u001b[0;34m\u001b[0m\u001b[0;34m\u001b[0m\u001b[0m\n\u001b[1;32m      4\u001b[0m     \u001b[0mlayer\u001b[0m\u001b[0;34m.\u001b[0m\u001b[0mtrainable\u001b[0m \u001b[0;34m=\u001b[0m \u001b[0;32mFalse\u001b[0m\u001b[0;34m\u001b[0m\u001b[0;34m\u001b[0m\u001b[0m\n\u001b[1;32m      5\u001b[0m \u001b[0;34m\u001b[0m\u001b[0m\n",
            "\u001b[0;31mNameError\u001b[0m: name 'base_model' is not defined"
          ]
        }
      ]
    },
    {
      "cell_type": "code",
      "source": [
        "loss, acc = model.evaluate(test_generator)\n",
        "print(f\"Test Accuracy: {acc*100:.2f}%\")\n",
        "\n"
      ],
      "metadata": {
        "colab": {
          "base_uri": "https://localhost:8080/"
        },
        "id": "n0POXJ2E4zU5",
        "outputId": "17dfc4b4-7f36-403e-f75f-278596919986"
      },
      "execution_count": null,
      "outputs": [
        {
          "output_type": "stream",
          "name": "stdout",
          "text": [
            "\u001b[1m65/65\u001b[0m \u001b[32m━━━━━━━━━━━━━━━━━━━━\u001b[0m\u001b[37m\u001b[0m \u001b[1m14s\u001b[0m 220ms/step - accuracy: 0.9293 - loss: 0.2038\n",
            "Test Accuracy: 91.21%\n"
          ]
        }
      ]
    },
    {
      "cell_type": "code",
      "source": [
        "import matplotlib.pyplot as plt\n",
        "\n",
        "# Plot accuracy\n",
        "plt.plot(history_finetune.history['accuracy'], label='Train Accuracy')\n",
        "plt.plot(history_finetune.history['val_accuracy'], label='Validation Accuracy')\n",
        "plt.title('Fine-Tuned Model Accuracy')\n",
        "plt.xlabel('Epochs')\n",
        "plt.ylabel('Accuracy')\n",
        "plt.legend()\n",
        "plt.show()\n",
        "\n",
        "# Plot loss\n",
        "plt.plot(history_finetune.history['loss'], label='Train Loss')\n",
        "plt.plot(history_finetune.history['val_loss'], label='Validation Loss')\n",
        "plt.title('Fine-Tuned Model Loss')\n",
        "plt.xlabel('Epochs')\n",
        "plt.ylabel('Loss')\n",
        "plt.legend()\n",
        "plt.show()\n"
      ],
      "metadata": {
        "colab": {
          "base_uri": "https://localhost:8080/",
          "height": 211
        },
        "id": "u6ReGaE39T1X",
        "outputId": "2fae0784-4042-44c3-da13-0dac1485a4ae"
      },
      "execution_count": 17,
      "outputs": [
        {
          "output_type": "error",
          "ename": "NameError",
          "evalue": "name 'history_finetune' is not defined",
          "traceback": [
            "\u001b[0;31m---------------------------------------------------------------------------\u001b[0m",
            "\u001b[0;31mNameError\u001b[0m                                 Traceback (most recent call last)",
            "\u001b[0;32m/tmp/ipython-input-1783386291.py\u001b[0m in \u001b[0;36m<cell line: 0>\u001b[0;34m()\u001b[0m\n\u001b[1;32m      2\u001b[0m \u001b[0;34m\u001b[0m\u001b[0m\n\u001b[1;32m      3\u001b[0m \u001b[0;31m# Plot accuracy\u001b[0m\u001b[0;34m\u001b[0m\u001b[0;34m\u001b[0m\u001b[0m\n\u001b[0;32m----> 4\u001b[0;31m \u001b[0mplt\u001b[0m\u001b[0;34m.\u001b[0m\u001b[0mplot\u001b[0m\u001b[0;34m(\u001b[0m\u001b[0mhistory_finetune\u001b[0m\u001b[0;34m.\u001b[0m\u001b[0mhistory\u001b[0m\u001b[0;34m[\u001b[0m\u001b[0;34m'accuracy'\u001b[0m\u001b[0;34m]\u001b[0m\u001b[0;34m,\u001b[0m \u001b[0mlabel\u001b[0m\u001b[0;34m=\u001b[0m\u001b[0;34m'Train Accuracy'\u001b[0m\u001b[0;34m)\u001b[0m\u001b[0;34m\u001b[0m\u001b[0;34m\u001b[0m\u001b[0m\n\u001b[0m\u001b[1;32m      5\u001b[0m \u001b[0mplt\u001b[0m\u001b[0;34m.\u001b[0m\u001b[0mplot\u001b[0m\u001b[0;34m(\u001b[0m\u001b[0mhistory_finetune\u001b[0m\u001b[0;34m.\u001b[0m\u001b[0mhistory\u001b[0m\u001b[0;34m[\u001b[0m\u001b[0;34m'val_accuracy'\u001b[0m\u001b[0;34m]\u001b[0m\u001b[0;34m,\u001b[0m \u001b[0mlabel\u001b[0m\u001b[0;34m=\u001b[0m\u001b[0;34m'Validation Accuracy'\u001b[0m\u001b[0;34m)\u001b[0m\u001b[0;34m\u001b[0m\u001b[0;34m\u001b[0m\u001b[0m\n\u001b[1;32m      6\u001b[0m \u001b[0mplt\u001b[0m\u001b[0;34m.\u001b[0m\u001b[0mtitle\u001b[0m\u001b[0;34m(\u001b[0m\u001b[0;34m'Fine-Tuned Model Accuracy'\u001b[0m\u001b[0;34m)\u001b[0m\u001b[0;34m\u001b[0m\u001b[0;34m\u001b[0m\u001b[0m\n",
            "\u001b[0;31mNameError\u001b[0m: name 'history_finetune' is not defined"
          ]
        }
      ]
    },
    {
      "cell_type": "code",
      "source": [
        "model.save('/content/plant_disease_mobilenet_color.h5')\n",
        "# Optional: copy to Drive\n",
        "!cp /content/plant_disease_mobilenet_color.h5 \"/content/drive/MyDrive/Colab Notebooks/\"\n"
      ],
      "metadata": {
        "colab": {
          "base_uri": "https://localhost:8080/"
        },
        "id": "4igRuVSX9Xla",
        "outputId": "2c45f3fa-dc28-4201-c103-a8feab6c1219"
      },
      "execution_count": null,
      "outputs": [
        {
          "output_type": "stream",
          "name": "stderr",
          "text": [
            "WARNING:absl:You are saving your model as an HDF5 file via `model.save()` or `keras.saving.save_model(model)`. This file format is considered legacy. We recommend using instead the native Keras format, e.g. `model.save('my_model.keras')` or `keras.saving.save_model(model, 'my_model.keras')`. \n"
          ]
        }
      ]
    },
    {
      "cell_type": "code",
      "source": [
        "from google.colab import drive\n",
        "drive.flush_and_unmount()\n",
        "\n",
        "\n"
      ],
      "metadata": {
        "colab": {
          "base_uri": "https://localhost:8080/"
        },
        "id": "_Hjq_91AkcfV",
        "outputId": "6adc8e88-0041-44b6-a846-1cf74093d432"
      },
      "execution_count": null,
      "outputs": [
        {
          "output_type": "stream",
          "name": "stdout",
          "text": [
            "Drive not mounted, so nothing to flush and unmount.\n"
          ]
        }
      ]
    },
    {
      "cell_type": "code",
      "source": [
        "!fusermount -u /content/drive\n"
      ],
      "metadata": {
        "colab": {
          "base_uri": "https://localhost:8080/"
        },
        "id": "T5hrYKOSkuMg",
        "outputId": "f854fc20-8c8d-4311-c135-bea49bb30e09"
      },
      "execution_count": null,
      "outputs": [
        {
          "output_type": "stream",
          "name": "stdout",
          "text": [
            "fusermount: failed to unmount /content/drive: Invalid argument\n"
          ]
        }
      ]
    },
    {
      "cell_type": "code",
      "source": [
        "!rm -rf /content/drive\n"
      ],
      "metadata": {
        "id": "6uIRKVAAk7-n"
      },
      "execution_count": null,
      "outputs": []
    },
    {
      "cell_type": "code",
      "source": [
        "from google.colab import drive\n",
        "drive.mount('/content/drive')\n"
      ],
      "metadata": {
        "colab": {
          "base_uri": "https://localhost:8080/"
        },
        "id": "CAZBHw2Uk_Y-",
        "outputId": "36d17262-c2f2-4206-8c37-1b56c7b66cd7"
      },
      "execution_count": null,
      "outputs": [
        {
          "output_type": "stream",
          "name": "stdout",
          "text": [
            "Drive already mounted at /content/drive; to attempt to forcibly remount, call drive.mount(\"/content/drive\", force_remount=True).\n"
          ]
        }
      ]
    },
    {
      "cell_type": "code",
      "source": [
        "import shutil\n",
        "import os\n",
        "\n",
        "local_base = \"/content/PlantVillage/\"\n",
        "\n",
        "# Delete mistakenly included folders\n",
        "shutil.rmtree(os.path.join(local_base, \"PlantVillage_Gray\"), ignore_errors=True)\n",
        "shutil.rmtree(os.path.join(local_base, \"PlantVillage_Segmented\"), ignore_errors=True)\n",
        "\n",
        "print(\"Deleted erroneous folders inside local_base\")\n"
      ],
      "metadata": {
        "colab": {
          "base_uri": "https://localhost:8080/"
        },
        "id": "imUN_cQXr5wn",
        "outputId": "8e3e365f-612a-4405-b180-cd539ab45030"
      },
      "execution_count": null,
      "outputs": [
        {
          "output_type": "stream",
          "name": "stdout",
          "text": [
            "Deleted erroneous folders inside local_base\n"
          ]
        }
      ]
    },
    {
      "cell_type": "code",
      "source": [],
      "metadata": {
        "id": "wvPUpeVKAZ4f"
      },
      "execution_count": null,
      "outputs": []
    },
    {
      "cell_type": "code",
      "source": [
        "from google.colab import drive\n",
        "drive.flush_and_unmount()\n",
        "print(\"Drive unmounted successfully.\")\n"
      ],
      "metadata": {
        "colab": {
          "base_uri": "https://localhost:8080/"
        },
        "id": "z9Gqu0BpxjsW",
        "outputId": "6a7380f5-0c04-4586-9be9-a24726115fa6"
      },
      "execution_count": null,
      "outputs": [
        {
          "output_type": "stream",
          "name": "stdout",
          "text": [
            "Drive not mounted, so nothing to flush and unmount.\n",
            "Drive unmounted successfully.\n"
          ]
        }
      ]
    },
    {
      "cell_type": "code",
      "source": [
        "# -------------------------------\n",
        "# Step 0: Mount Google Drive\n",
        "# -------------------------------\n",
        "from google.colab import drive\n",
        "drive.mount('/content/drive', force_remount=True)\n",
        "\n",
        "# -------------------------------\n",
        "# Step 1: Import libraries\n",
        "# -------------------------------\n",
        "import os\n",
        "import shutil\n",
        "import cv2\n",
        "from tqdm import tqdm\n",
        "\n",
        "# -------------------------------\n",
        "# Step 2: Define paths\n",
        "# -------------------------------\n",
        "# Original dataset in Drive\n",
        "original_dir = \"/content/drive/MyDrive/Colab Notebooks/plant_village_datatset/archive (7)/PlantVillage/\"\n",
        "\n",
        "# Local directories for fast processing\n",
        "local_base = \"/content/PlantVillage/\"\n",
        "gray_dir = os.path.join(local_base, \"PlantVillage_Gray\")\n",
        "segmented_dir = os.path.join(local_base, \"PlantVillage_Segmented\")\n",
        "\n",
        "# Remove old output dirs if they exist\n",
        "shutil.rmtree(gray_dir, ignore_errors=True)\n",
        "shutil.rmtree(segmented_dir, ignore_errors=True)\n",
        "\n",
        "# Make fresh output dirs\n",
        "os.makedirs(gray_dir, exist_ok=True)\n",
        "os.makedirs(segmented_dir, exist_ok=True)\n",
        "\n",
        "# -------------------------------\n",
        "# Step 3: Copy original dataset to /content/\n",
        "# -------------------------------\n",
        "for class_name in os.listdir(original_dir):\n",
        "    src = os.path.join(original_dir, class_name)\n",
        "    dst = os.path.join(local_base, class_name)\n",
        "    if os.path.isdir(src):\n",
        "        shutil.copytree(src, dst, dirs_exist_ok=True)\n",
        "\n",
        "# -------------------------------\n",
        "# Step 4: Preprocess images\n",
        "# -------------------------------\n",
        "output_dirs = [\"PlantVillage_Gray\", \"PlantVillage_Segmented\"]\n",
        "\n",
        "for class_name in tqdm(os.listdir(local_base), desc=\"Processing classes\"):\n",
        "    if class_name in output_dirs:\n",
        "        continue  # skip output folders\n",
        "\n",
        "    class_path = os.path.join(local_base, class_name)\n",
        "    if not os.path.isdir(class_path):\n",
        "        continue\n",
        "\n",
        "    # Create class folders in output directories\n",
        "    os.makedirs(os.path.join(gray_dir, class_name), exist_ok=True)\n",
        "    os.makedirs(os.path.join(segmented_dir, class_name), exist_ok=True)\n",
        "\n",
        "    for img_name in os.listdir(class_path):\n",
        "        img_path = os.path.join(class_path, img_name)\n",
        "        img = cv2.imread(img_path)\n",
        "        if img is None:\n",
        "            continue\n",
        "\n",
        "        # ---------- Grayscale ----------\n",
        "        gray = cv2.cvtColor(img, cv2.COLOR_BGR2GRAY)\n",
        "        cv2.imwrite(os.path.join(gray_dir, class_name, img_name), gray)\n",
        "\n",
        "        # ---------- Segmentation (green leaf mask) ----------\n",
        "        hsv = cv2.cvtColor(img, cv2.COLOR_BGR2HSV)\n",
        "        lower = (25, 40, 40)\n",
        "        upper = (85, 255, 255)\n",
        "        mask = cv2.inRange(hsv, lower, upper)\n",
        "        result = cv2.bitwise_and(img, img, mask=mask)\n",
        "        cv2.imwrite(os.path.join(segmented_dir, class_name, img_name), result)\n",
        "\n",
        "# -------------------------------\n",
        "# Step 5: Verify classes\n",
        "# -------------------------------\n",
        "print(\"Grayscale classes:\", sorted(os.listdir(gray_dir)))\n",
        "print(\"Segmented classes:\", sorted(os.listdir(segmented_dir)))\n",
        "\n",
        "# -------------------------------\n",
        "# Step 6: Copy processed datasets back to Drive\n",
        "# -------------------------------\n",
        "drive_base = \"/content/drive/MyDrive/Colab Notebooks/plant_village_datatset/\"\n",
        "\n",
        "shutil.copytree(gray_dir, os.path.join(drive_base, \"PlantVillage_Gray\"), dirs_exist_ok=True)\n",
        "shutil.copytree(segmented_dir, os.path.join(drive_base, \"PlantVillage_Segmented\"), dirs_exist_ok=True)\n",
        "\n",
        "print(\"✅ Preprocessing complete! Grayscale and segmented datasets are ready in /content/ and Drive.\")\n"
      ],
      "metadata": {
        "colab": {
          "base_uri": "https://localhost:8080/"
        },
        "id": "77G3jNZtu9Ok",
        "outputId": "0f2105cf-43cf-4b5a-89aa-fd2223c1dc92"
      },
      "execution_count": null,
      "outputs": [
        {
          "output_type": "stream",
          "name": "stdout",
          "text": [
            "Mounted at /content/drive\n"
          ]
        },
        {
          "output_type": "stream",
          "name": "stderr",
          "text": [
            "Processing classes: 100%|██████████| 17/17 [00:50<00:00,  2.97s/it]\n"
          ]
        },
        {
          "output_type": "stream",
          "name": "stdout",
          "text": [
            "Grayscale classes: ['Pepper__bell___Bacterial_spot', 'Pepper__bell___healthy', 'Potato___Early_blight', 'Potato___Late_blight', 'Potato___healthy', 'Tomato_Bacterial_spot', 'Tomato_Early_blight', 'Tomato_Late_blight', 'Tomato_Leaf_Mold', 'Tomato_Septoria_leaf_spot', 'Tomato_Spider_mites_Two_spotted_spider_mite', 'Tomato__Target_Spot', 'Tomato__Tomato_YellowLeaf__Curl_Virus', 'Tomato__Tomato_mosaic_virus', 'Tomato_healthy']\n",
            "Segmented classes: ['Pepper__bell___Bacterial_spot', 'Pepper__bell___healthy', 'Potato___Early_blight', 'Potato___Late_blight', 'Potato___healthy', 'Tomato_Bacterial_spot', 'Tomato_Early_blight', 'Tomato_Late_blight', 'Tomato_Leaf_Mold', 'Tomato_Septoria_leaf_spot', 'Tomato_Spider_mites_Two_spotted_spider_mite', 'Tomato__Target_Spot', 'Tomato__Tomato_YellowLeaf__Curl_Virus', 'Tomato__Tomato_mosaic_virus', 'Tomato_healthy']\n",
            "✅ Preprocessing complete! Grayscale and segmented datasets are ready in /content/ and Drive.\n"
          ]
        }
      ]
    },
    {
      "cell_type": "code",
      "source": [
        "import os\n",
        "\n",
        "gray_dir = \"/content/drive/MyDrive/Colab Notebooks/plant_village_datatset/PlantVillage_Gray\"\n",
        "segmented_dir = \"/content/drive/MyDrive/Colab Notebooks/plant_village_datatset/PlantVillage_Segmented\"\n",
        "\n",
        "print(\"Grayscale classes:\", sorted(os.listdir(gray_dir)))\n",
        "print(\"Segmented classes:\", sorted(os.listdir(segmented_dir)))\n",
        "\n",
        "print(\"Number of Grayscale classes:\", len(os.listdir(gray_dir)))\n",
        "print(\"Number of Segmented classes:\", len(os.listdir(segmented_dir)))\n",
        "\n"
      ],
      "metadata": {
        "colab": {
          "base_uri": "https://localhost:8080/"
        },
        "id": "9N4_bNR04SYK",
        "outputId": "5af6d4f4-3681-4c0b-a59b-77b2e10a2ea1"
      },
      "execution_count": null,
      "outputs": [
        {
          "output_type": "stream",
          "name": "stdout",
          "text": [
            "Grayscale classes: ['Pepper__bell___Bacterial_spot', 'Pepper__bell___healthy', 'Potato___Early_blight', 'Potato___Late_blight', 'Potato___healthy', 'Tomato_Bacterial_spot', 'Tomato_Early_blight', 'Tomato_Late_blight', 'Tomato_Leaf_Mold', 'Tomato_Septoria_leaf_spot', 'Tomato_Spider_mites_Two_spotted_spider_mite', 'Tomato__Target_Spot', 'Tomato__Tomato_YellowLeaf__Curl_Virus', 'Tomato__Tomato_mosaic_virus', 'Tomato_healthy']\n",
            "Segmented classes: ['Pepper__bell___Bacterial_spot', 'Pepper__bell___healthy', 'Potato___Early_blight', 'Potato___Late_blight', 'Potato___healthy', 'Tomato_Bacterial_spot', 'Tomato_Early_blight', 'Tomato_Late_blight', 'Tomato_Leaf_Mold', 'Tomato_Septoria_leaf_spot', 'Tomato_Spider_mites_Two_spotted_spider_mite', 'Tomato__Target_Spot', 'Tomato__Tomato_YellowLeaf__Curl_Virus', 'Tomato__Tomato_mosaic_virus', 'Tomato_healthy']\n",
            "Number of Grayscale classes: 15\n",
            "Number of Segmented classes: 15\n"
          ]
        }
      ]
    },
    {
      "cell_type": "code",
      "source": [
        "for class_name in sorted(os.listdir(gray_dir)):\n",
        "    class_path = os.path.join(gray_dir, class_name)\n",
        "    num_images = len(os.listdir(class_path))\n",
        "    print(f\"Grayscale - {class_name}: {num_images} images\")\n",
        "\n",
        "for class_name in sorted(os.listdir(segmented_dir)):\n",
        "    class_path = os.path.join(segmented_dir, class_name)\n",
        "    num_images = len(os.listdir(class_path))\n",
        "    print(f\"Segmented - {class_name}: {num_images} images\")\n"
      ],
      "metadata": {
        "colab": {
          "base_uri": "https://localhost:8080/"
        },
        "id": "HFRE_6-Y7T90",
        "outputId": "3a874e66-5c00-419c-e4ee-49c7b148ffbe"
      },
      "execution_count": null,
      "outputs": [
        {
          "output_type": "stream",
          "name": "stdout",
          "text": [
            "Grayscale - Pepper__bell___Bacterial_spot: 997 images\n",
            "Grayscale - Pepper__bell___healthy: 1478 images\n",
            "Grayscale - Potato___Early_blight: 1000 images\n",
            "Grayscale - Potato___Late_blight: 1000 images\n",
            "Grayscale - Potato___healthy: 152 images\n",
            "Grayscale - Tomato_Bacterial_spot: 2127 images\n",
            "Grayscale - Tomato_Early_blight: 1000 images\n",
            "Grayscale - Tomato_Late_blight: 1909 images\n",
            "Grayscale - Tomato_Leaf_Mold: 952 images\n",
            "Grayscale - Tomato_Septoria_leaf_spot: 1771 images\n",
            "Grayscale - Tomato_Spider_mites_Two_spotted_spider_mite: 1676 images\n",
            "Grayscale - Tomato__Target_Spot: 1404 images\n",
            "Grayscale - Tomato__Tomato_YellowLeaf__Curl_Virus: 3208 images\n",
            "Grayscale - Tomato__Tomato_mosaic_virus: 373 images\n",
            "Grayscale - Tomato_healthy: 1591 images\n",
            "Segmented - Pepper__bell___Bacterial_spot: 997 images\n",
            "Segmented - Pepper__bell___healthy: 1478 images\n",
            "Segmented - Potato___Early_blight: 1000 images\n",
            "Segmented - Potato___Late_blight: 1000 images\n",
            "Segmented - Potato___healthy: 152 images\n",
            "Segmented - Tomato_Bacterial_spot: 2127 images\n",
            "Segmented - Tomato_Early_blight: 1000 images\n",
            "Segmented - Tomato_Late_blight: 1909 images\n",
            "Segmented - Tomato_Leaf_Mold: 952 images\n",
            "Segmented - Tomato_Septoria_leaf_spot: 1771 images\n",
            "Segmented - Tomato_Spider_mites_Two_spotted_spider_mite: 1676 images\n",
            "Segmented - Tomato__Target_Spot: 1404 images\n",
            "Segmented - Tomato__Tomato_YellowLeaf__Curl_Virus: 3208 images\n",
            "Segmented - Tomato__Tomato_mosaic_virus: 373 images\n",
            "Segmented - Tomato_healthy: 1591 images\n"
          ]
        }
      ]
    },
    {
      "cell_type": "code",
      "source": [
        "from google.colab import drive\n",
        "drive.flush_and_unmount()\n",
        "print(\"Drive unmounted successfully.\")\n"
      ],
      "metadata": {
        "colab": {
          "base_uri": "https://localhost:8080/"
        },
        "id": "4fUtVa2jB-yi",
        "outputId": "1aaa6113-d21b-40ab-d6df-4bc2952dc280"
      },
      "execution_count": null,
      "outputs": [
        {
          "output_type": "stream",
          "name": "stdout",
          "text": [
            "Drive not mounted, so nothing to flush and unmount.\n",
            "Drive unmounted successfully.\n"
          ]
        }
      ]
    },
    {
      "cell_type": "code",
      "source": [
        "from google.colab import drive\n",
        "drive.mount('/content/drive', force_remount=True)"
      ],
      "metadata": {
        "colab": {
          "base_uri": "https://localhost:8080/"
        },
        "id": "KrIidMiDP_MU",
        "outputId": "6ee7bc7d-a342-464f-dc0c-61efd1c989df"
      },
      "execution_count": null,
      "outputs": [
        {
          "output_type": "stream",
          "name": "stdout",
          "text": [
            "Mounted at /content/drive\n"
          ]
        }
      ]
    },
    {
      "cell_type": "code",
      "source": [
        "from google.colab import drive\n",
        "drive.mount('/content/drive')"
      ],
      "metadata": {
        "id": "ogIUaW6Efpn8"
      },
      "execution_count": null,
      "outputs": []
    },
    {
      "cell_type": "code",
      "source": [
        "!cp -r \"/content/drive/MyDrive/Colab Notebooks/plant_village_datatset/PlantVillage_Gray\" \"/content/\"\n",
        "!cp -r \"/content/drive/MyDrive/Colab Notebooks/plant_village_datatset/PlantVillage_Segmented\" \"/content/\"\n"
      ],
      "metadata": {
        "id": "QmOH93mGSEQR"
      },
      "execution_count": null,
      "outputs": []
    },
    {
      "cell_type": "code",
      "source": [
        "from tensorflow.keras.applications import MobileNetV2\n",
        "from tensorflow.keras.layers import Dense, GlobalAveragePooling2D, Dropout, Input, Concatenate\n",
        "from tensorflow.keras.models import Model\n",
        "from tensorflow.keras.optimizers import Adam\n",
        "from tensorflow.keras.preprocessing.image import ImageDataGenerator\n",
        "\n",
        "# =============================\n",
        "# 1️⃣ Dataset paths & preprocessing\n",
        "# =============================\n",
        "gray_dir = \"/content/PlantVillage_Gray\"\n",
        "\n",
        "train_datagen_gray = ImageDataGenerator(rescale=1./255, validation_split=0.2)\n",
        "\n",
        "train_generator_gray = train_datagen_gray.flow_from_directory(\n",
        "    gray_dir,\n",
        "    target_size=(224, 224),\n",
        "    color_mode='grayscale',\n",
        "    batch_size=32,\n",
        "    class_mode='categorical',\n",
        "    subset='training'\n",
        ")\n",
        "\n",
        "val_generator_gray = train_datagen_gray.flow_from_directory(\n",
        "    gray_dir,\n",
        "    target_size=(224, 224),\n",
        "    color_mode='grayscale',\n",
        "    batch_size=32,\n",
        "    class_mode='categorical',\n",
        "    subset='validation'\n",
        ")\n",
        "\n",
        "# =============================\n",
        "# 2️⃣ Base Model Setup (MobileNetV2)\n",
        "# =============================\n",
        "base_model_gray = MobileNetV2(weights='imagenet', include_top=False, input_shape=(224,224,3))\n",
        "base_model_gray.trainable = False  # freeze initial layers\n",
        "\n",
        "# Convert grayscale input (1 channel → 3 channel)\n",
        "inputs_gray = Input(shape=(224,224,1))\n",
        "x = Concatenate()([inputs_gray, inputs_gray, inputs_gray])\n",
        "x = base_model_gray(x, training=False)\n",
        "x = GlobalAveragePooling2D()(x)\n",
        "x = Dense(128, activation='relu')(x)\n",
        "x = Dropout(0.3)(x)\n",
        "predictions_gray = Dense(train_generator_gray.num_classes, activation='softmax')(x)\n",
        "\n",
        "model_gray = Model(inputs=inputs_gray, outputs=predictions_gray)\n",
        "\n",
        "# =============================\n",
        "# 3️⃣ Compile & Train (Feature Extraction)\n",
        "# =============================\n",
        "model_gray.compile(\n",
        "    optimizer=Adam(learning_rate=0.001),\n",
        "    loss='categorical_crossentropy',\n",
        "    metrics=['accuracy']\n",
        ")\n",
        "\n",
        "history_gray = model_gray.fit(\n",
        "    train_generator_gray,\n",
        "    validation_data=val_generator_gray,\n",
        "    epochs=15\n",
        ")\n",
        "\n",
        "# =============================\n",
        "# 4️⃣ Fine-Tuning\n",
        "# =============================\n",
        "base_model_gray.trainable = True\n",
        "for layer in base_model_gray.layers[:-50]:\n",
        "    layer.trainable = False\n",
        "\n",
        "model_gray.compile(\n",
        "    optimizer=Adam(learning_rate=1e-5),\n",
        "    loss='categorical_crossentropy',\n",
        "    metrics=['accuracy']\n",
        ")\n",
        "\n",
        "history_finetune_gray = model_gray.fit(\n",
        "    train_generator_gray,\n",
        "    validation_data=val_generator_gray,\n",
        "    epochs=15\n",
        ")\n"
      ],
      "metadata": {
        "colab": {
          "base_uri": "https://localhost:8080/"
        },
        "id": "Odg92SF7Q19Y",
        "outputId": "29098c1d-6fdd-4c66-b587-1be1eb014f07"
      },
      "execution_count": 12,
      "outputs": [
        {
          "output_type": "stream",
          "name": "stdout",
          "text": [
            "Found 16516 images belonging to 15 classes.\n",
            "Found 4122 images belonging to 15 classes.\n",
            "Epoch 1/15\n"
          ]
        },
        {
          "output_type": "stream",
          "name": "stderr",
          "text": [
            "/usr/local/lib/python3.12/dist-packages/keras/src/trainers/data_adapters/py_dataset_adapter.py:121: UserWarning: Your `PyDataset` class should call `super().__init__(**kwargs)` in its constructor. `**kwargs` can include `workers`, `use_multiprocessing`, `max_queue_size`. Do not pass these arguments to `fit()`, as they will be ignored.\n",
            "  self._warn_if_super_not_called()\n"
          ]
        },
        {
          "output_type": "stream",
          "name": "stdout",
          "text": [
            "\u001b[1m517/517\u001b[0m \u001b[32m━━━━━━━━━━━━━━━━━━━━\u001b[0m\u001b[37m\u001b[0m \u001b[1m74s\u001b[0m 104ms/step - accuracy: 0.6038 - loss: 1.2690 - val_accuracy: 0.8246 - val_loss: 0.5161\n",
            "Epoch 2/15\n",
            "\u001b[1m517/517\u001b[0m \u001b[32m━━━━━━━━━━━━━━━━━━━━\u001b[0m\u001b[37m\u001b[0m \u001b[1m26s\u001b[0m 51ms/step - accuracy: 0.8074 - loss: 0.5730 - val_accuracy: 0.8525 - val_loss: 0.4307\n",
            "Epoch 3/15\n",
            "\u001b[1m517/517\u001b[0m \u001b[32m━━━━━━━━━━━━━━━━━━━━\u001b[0m\u001b[37m\u001b[0m \u001b[1m26s\u001b[0m 51ms/step - accuracy: 0.8441 - loss: 0.4595 - val_accuracy: 0.8683 - val_loss: 0.3960\n",
            "Epoch 4/15\n",
            "\u001b[1m517/517\u001b[0m \u001b[32m━━━━━━━━━━━━━━━━━━━━\u001b[0m\u001b[37m\u001b[0m \u001b[1m31s\u001b[0m 60ms/step - accuracy: 0.8634 - loss: 0.4025 - val_accuracy: 0.8707 - val_loss: 0.3620\n",
            "Epoch 5/15\n",
            "\u001b[1m517/517\u001b[0m \u001b[32m━━━━━━━━━━━━━━━━━━━━\u001b[0m\u001b[37m\u001b[0m \u001b[1m26s\u001b[0m 50ms/step - accuracy: 0.8706 - loss: 0.3780 - val_accuracy: 0.8726 - val_loss: 0.3663\n",
            "Epoch 6/15\n",
            "\u001b[1m517/517\u001b[0m \u001b[32m━━━━━━━━━━━━━━━━━━━━\u001b[0m\u001b[37m\u001b[0m \u001b[1m26s\u001b[0m 50ms/step - accuracy: 0.8814 - loss: 0.3489 - val_accuracy: 0.8729 - val_loss: 0.3828\n",
            "Epoch 7/15\n",
            "\u001b[1m517/517\u001b[0m \u001b[32m━━━━━━━━━━━━━━━━━━━━\u001b[0m\u001b[37m\u001b[0m \u001b[1m26s\u001b[0m 51ms/step - accuracy: 0.8929 - loss: 0.3073 - val_accuracy: 0.8794 - val_loss: 0.3502\n",
            "Epoch 8/15\n",
            "\u001b[1m517/517\u001b[0m \u001b[32m━━━━━━━━━━━━━━━━━━━━\u001b[0m\u001b[37m\u001b[0m \u001b[1m26s\u001b[0m 50ms/step - accuracy: 0.9023 - loss: 0.2794 - val_accuracy: 0.8869 - val_loss: 0.3363\n",
            "Epoch 9/15\n",
            "\u001b[1m517/517\u001b[0m \u001b[32m━━━━━━━━━━━━━━━━━━━━\u001b[0m\u001b[37m\u001b[0m \u001b[1m26s\u001b[0m 49ms/step - accuracy: 0.9114 - loss: 0.2515 - val_accuracy: 0.8833 - val_loss: 0.3313\n",
            "Epoch 10/15\n",
            "\u001b[1m517/517\u001b[0m \u001b[32m━━━━━━━━━━━━━━━━━━━━\u001b[0m\u001b[37m\u001b[0m \u001b[1m26s\u001b[0m 49ms/step - accuracy: 0.9147 - loss: 0.2413 - val_accuracy: 0.8838 - val_loss: 0.3502\n",
            "Epoch 11/15\n",
            "\u001b[1m517/517\u001b[0m \u001b[32m━━━━━━━━━━━━━━━━━━━━\u001b[0m\u001b[37m\u001b[0m \u001b[1m27s\u001b[0m 53ms/step - accuracy: 0.9150 - loss: 0.2323 - val_accuracy: 0.8797 - val_loss: 0.3654\n",
            "Epoch 12/15\n",
            "\u001b[1m517/517\u001b[0m \u001b[32m━━━━━━━━━━━━━━━━━━━━\u001b[0m\u001b[37m\u001b[0m \u001b[1m26s\u001b[0m 51ms/step - accuracy: 0.9176 - loss: 0.2259 - val_accuracy: 0.8836 - val_loss: 0.3403\n",
            "Epoch 13/15\n",
            "\u001b[1m517/517\u001b[0m \u001b[32m━━━━━━━━━━━━━━━━━━━━\u001b[0m\u001b[37m\u001b[0m \u001b[1m27s\u001b[0m 52ms/step - accuracy: 0.9271 - loss: 0.2012 - val_accuracy: 0.8889 - val_loss: 0.3450\n",
            "Epoch 14/15\n",
            "\u001b[1m517/517\u001b[0m \u001b[32m━━━━━━━━━━━━━━━━━━━━\u001b[0m\u001b[37m\u001b[0m \u001b[1m26s\u001b[0m 50ms/step - accuracy: 0.9290 - loss: 0.1977 - val_accuracy: 0.8901 - val_loss: 0.3331\n",
            "Epoch 15/15\n",
            "\u001b[1m517/517\u001b[0m \u001b[32m━━━━━━━━━━━━━━━━━━━━\u001b[0m\u001b[37m\u001b[0m \u001b[1m26s\u001b[0m 50ms/step - accuracy: 0.9376 - loss: 0.1776 - val_accuracy: 0.8843 - val_loss: 0.3693\n",
            "Epoch 1/15\n",
            "\u001b[1m517/517\u001b[0m \u001b[32m━━━━━━━━━━━━━━━━━━━━\u001b[0m\u001b[37m\u001b[0m \u001b[1m70s\u001b[0m 92ms/step - accuracy: 0.5972 - loss: 2.1866 - val_accuracy: 0.8683 - val_loss: 0.4668\n",
            "Epoch 2/15\n",
            "\u001b[1m517/517\u001b[0m \u001b[32m━━━━━━━━━━━━━━━━━━━━\u001b[0m\u001b[37m\u001b[0m \u001b[1m28s\u001b[0m 55ms/step - accuracy: 0.8158 - loss: 0.5569 - val_accuracy: 0.8644 - val_loss: 0.4519\n",
            "Epoch 3/15\n",
            "\u001b[1m517/517\u001b[0m \u001b[32m━━━━━━━━━━━━━━━━━━━━\u001b[0m\u001b[37m\u001b[0m \u001b[1m28s\u001b[0m 54ms/step - accuracy: 0.8596 - loss: 0.4043 - val_accuracy: 0.8760 - val_loss: 0.3990\n",
            "Epoch 4/15\n",
            "\u001b[1m517/517\u001b[0m \u001b[32m━━━━━━━━━━━━━━━━━━━━\u001b[0m\u001b[37m\u001b[0m \u001b[1m28s\u001b[0m 55ms/step - accuracy: 0.8826 - loss: 0.3344 - val_accuracy: 0.8848 - val_loss: 0.3643\n",
            "Epoch 5/15\n",
            "\u001b[1m517/517\u001b[0m \u001b[32m━━━━━━━━━━━━━━━━━━━━\u001b[0m\u001b[37m\u001b[0m \u001b[1m30s\u001b[0m 57ms/step - accuracy: 0.9099 - loss: 0.2622 - val_accuracy: 0.8879 - val_loss: 0.3425\n",
            "Epoch 6/15\n",
            "\u001b[1m517/517\u001b[0m \u001b[32m━━━━━━━━━━━━━━━━━━━━\u001b[0m\u001b[37m\u001b[0m \u001b[1m28s\u001b[0m 55ms/step - accuracy: 0.9199 - loss: 0.2161 - val_accuracy: 0.8913 - val_loss: 0.3311\n",
            "Epoch 7/15\n",
            "\u001b[1m517/517\u001b[0m \u001b[32m━━━━━━━━━━━━━━━━━━━━\u001b[0m\u001b[37m\u001b[0m \u001b[1m28s\u001b[0m 54ms/step - accuracy: 0.9344 - loss: 0.1850 - val_accuracy: 0.8969 - val_loss: 0.3180\n",
            "Epoch 8/15\n",
            "\u001b[1m517/517\u001b[0m \u001b[32m━━━━━━━━━━━━━━━━━━━━\u001b[0m\u001b[37m\u001b[0m \u001b[1m29s\u001b[0m 55ms/step - accuracy: 0.9437 - loss: 0.1611 - val_accuracy: 0.8998 - val_loss: 0.3144\n",
            "Epoch 9/15\n",
            "\u001b[1m517/517\u001b[0m \u001b[32m━━━━━━━━━━━━━━━━━━━━\u001b[0m\u001b[37m\u001b[0m \u001b[1m28s\u001b[0m 54ms/step - accuracy: 0.9533 - loss: 0.1374 - val_accuracy: 0.9047 - val_loss: 0.2996\n",
            "Epoch 10/15\n",
            "\u001b[1m517/517\u001b[0m \u001b[32m━━━━━━━━━━━━━━━━━━━━\u001b[0m\u001b[37m\u001b[0m \u001b[1m28s\u001b[0m 55ms/step - accuracy: 0.9594 - loss: 0.1204 - val_accuracy: 0.9068 - val_loss: 0.2926\n",
            "Epoch 11/15\n",
            "\u001b[1m517/517\u001b[0m \u001b[32m━━━━━━━━━━━━━━━━━━━━\u001b[0m\u001b[37m\u001b[0m \u001b[1m28s\u001b[0m 54ms/step - accuracy: 0.9665 - loss: 0.0996 - val_accuracy: 0.9093 - val_loss: 0.2884\n",
            "Epoch 12/15\n",
            "\u001b[1m517/517\u001b[0m \u001b[32m━━━━━━━━━━━━━━━━━━━━\u001b[0m\u001b[37m\u001b[0m \u001b[1m28s\u001b[0m 55ms/step - accuracy: 0.9729 - loss: 0.0868 - val_accuracy: 0.9122 - val_loss: 0.2791\n",
            "Epoch 13/15\n",
            "\u001b[1m517/517\u001b[0m \u001b[32m━━━━━━━━━━━━━━━━━━━━\u001b[0m\u001b[37m\u001b[0m \u001b[1m28s\u001b[0m 55ms/step - accuracy: 0.9761 - loss: 0.0741 - val_accuracy: 0.9134 - val_loss: 0.2768\n",
            "Epoch 14/15\n",
            "\u001b[1m517/517\u001b[0m \u001b[32m━━━━━━━━━━━━━━━━━━━━\u001b[0m\u001b[37m\u001b[0m \u001b[1m29s\u001b[0m 56ms/step - accuracy: 0.9777 - loss: 0.0687 - val_accuracy: 0.9173 - val_loss: 0.2753\n",
            "Epoch 15/15\n",
            "\u001b[1m517/517\u001b[0m \u001b[32m━━━━━━━━━━━━━━━━━━━━\u001b[0m\u001b[37m\u001b[0m \u001b[1m28s\u001b[0m 54ms/step - accuracy: 0.9780 - loss: 0.0644 - val_accuracy: 0.9158 - val_loss: 0.2797\n"
          ]
        }
      ]
    },
    {
      "cell_type": "code",
      "source": [
        "from tensorflow.keras.applications import MobileNetV2\n",
        "from tensorflow.keras.layers import Dense, GlobalAveragePooling2D, Dropout, Input, Concatenate\n",
        "from tensorflow.keras.models import Model\n",
        "from tensorflow.keras.optimizers import Adam\n",
        "from tensorflow.keras.preprocessing.image import ImageDataGenerator\n",
        "\n",
        "# =============================\n",
        "# 1️⃣ Dataset paths & preprocessing\n",
        "# =============================\n",
        "seg_dir = \"/content/PlantVillage_Segmented\"\n",
        "\n",
        "train_datagen_seg = ImageDataGenerator(rescale=1./255, validation_split=0.2)\n",
        "\n",
        "train_generator_seg = train_datagen_seg.flow_from_directory(\n",
        "    seg_dir,\n",
        "    target_size=(224, 224),\n",
        "    color_mode='rgb',\n",
        "    batch_size=32,\n",
        "    class_mode='categorical',\n",
        "    subset='training'\n",
        ")\n",
        "\n",
        "val_generator_seg = train_datagen_seg.flow_from_directory(\n",
        "    seg_dir,\n",
        "    target_size=(224, 224),\n",
        "    color_mode='rgb',\n",
        "    batch_size=32,\n",
        "    class_mode='categorical',\n",
        "    subset='validation'\n",
        ")\n",
        "\n",
        "# =============================\n",
        "# 2️⃣ Base Model Setup (MobileNetV2)\n",
        "# =============================\n",
        "base_model_seg = MobileNetV2(weights='imagenet', include_top=False, input_shape=(224,224,3))\n",
        "base_model_seg.trainable = False  # freeze initial layers\n",
        "\n",
        "inputs_seg = Input(shape=(224,224,3))\n",
        "x = base_model_seg(inputs_seg, training=False)\n",
        "x = GlobalAveragePooling2D()(x)\n",
        "x = Dense(128, activation='relu')(x)\n",
        "x = Dropout(0.3)(x)\n",
        "predictions_seg = Dense(train_generator_seg.num_classes, activation='softmax')(x)\n",
        "\n",
        "model_seg = Model(inputs=inputs_seg, outputs=predictions_seg)\n",
        "\n",
        "# =============================\n",
        "# 3️⃣ Compile & Train (Feature Extraction)\n",
        "# =============================\n",
        "model_seg.compile(\n",
        "    optimizer=Adam(learning_rate=0.001),\n",
        "    loss='categorical_crossentropy',\n",
        "    metrics=['accuracy']\n",
        ")\n",
        "\n",
        "history_seg = model_seg.fit(\n",
        "    train_generator_seg,\n",
        "    validation_data=val_generator_seg,\n",
        "    epochs=15\n",
        ")\n",
        "\n",
        "# =============================\n",
        "# 4️⃣ Fine-Tuning\n",
        "# =============================\n",
        "base_model_seg.trainable = True\n",
        "for layer in base_model_seg.layers[:-50]:\n",
        "    layer.trainable = False\n",
        "\n",
        "model_seg.compile(\n",
        "    optimizer=Adam(learning_rate=1e-5),\n",
        "    loss='categorical_crossentropy',\n",
        "    metrics=['accuracy']\n",
        ")\n",
        "\n",
        "history_finetune_seg = model_seg.fit(\n",
        "    train_generator_seg,\n",
        "    validation_data=val_generator_seg,\n",
        "    epochs=15\n",
        ")\n"
      ],
      "metadata": {
        "colab": {
          "base_uri": "https://localhost:8080/"
        },
        "id": "SOycSxzztKAD",
        "outputId": "e6bc981e-d893-44ea-ace6-3ab049256c84"
      },
      "execution_count": 13,
      "outputs": [
        {
          "output_type": "stream",
          "name": "stdout",
          "text": [
            "Found 16516 images belonging to 15 classes.\n",
            "Found 4122 images belonging to 15 classes.\n",
            "Epoch 1/15\n",
            "\u001b[1m517/517\u001b[0m \u001b[32m━━━━━━━━━━━━━━━━━━━━\u001b[0m\u001b[37m\u001b[0m \u001b[1m56s\u001b[0m 91ms/step - accuracy: 0.6157 - loss: 1.2117 - val_accuracy: 0.8358 - val_loss: 0.4826\n",
            "Epoch 2/15\n",
            "\u001b[1m517/517\u001b[0m \u001b[32m━━━━━━━━━━━━━━━━━━━━\u001b[0m\u001b[37m\u001b[0m \u001b[1m33s\u001b[0m 64ms/step - accuracy: 0.8303 - loss: 0.5144 - val_accuracy: 0.8792 - val_loss: 0.3657\n",
            "Epoch 3/15\n",
            "\u001b[1m517/517\u001b[0m \u001b[32m━━━━━━━━━━━━━━━━━━━━\u001b[0m\u001b[37m\u001b[0m \u001b[1m35s\u001b[0m 68ms/step - accuracy: 0.8611 - loss: 0.4079 - val_accuracy: 0.8738 - val_loss: 0.3662\n",
            "Epoch 4/15\n",
            "\u001b[1m517/517\u001b[0m \u001b[32m━━━━━━━━━━━━━━━━━━━━\u001b[0m\u001b[37m\u001b[0m \u001b[1m34s\u001b[0m 66ms/step - accuracy: 0.8803 - loss: 0.3588 - val_accuracy: 0.8954 - val_loss: 0.3156\n",
            "Epoch 5/15\n",
            "\u001b[1m517/517\u001b[0m \u001b[32m━━━━━━━━━━━━━━━━━━━━\u001b[0m\u001b[37m\u001b[0m \u001b[1m34s\u001b[0m 66ms/step - accuracy: 0.8912 - loss: 0.3163 - val_accuracy: 0.8935 - val_loss: 0.3064\n",
            "Epoch 6/15\n",
            "\u001b[1m517/517\u001b[0m \u001b[32m━━━━━━━━━━━━━━━━━━━━\u001b[0m\u001b[37m\u001b[0m \u001b[1m34s\u001b[0m 65ms/step - accuracy: 0.9021 - loss: 0.2861 - val_accuracy: 0.8976 - val_loss: 0.2888\n",
            "Epoch 7/15\n",
            "\u001b[1m517/517\u001b[0m \u001b[32m━━━━━━━━━━━━━━━━━━━━\u001b[0m\u001b[37m\u001b[0m \u001b[1m41s\u001b[0m 64ms/step - accuracy: 0.9018 - loss: 0.2746 - val_accuracy: 0.9030 - val_loss: 0.2854\n",
            "Epoch 8/15\n",
            "\u001b[1m517/517\u001b[0m \u001b[32m━━━━━━━━━━━━━━━━━━━━\u001b[0m\u001b[37m\u001b[0m \u001b[1m35s\u001b[0m 67ms/step - accuracy: 0.9121 - loss: 0.2424 - val_accuracy: 0.9047 - val_loss: 0.2825\n",
            "Epoch 9/15\n",
            "\u001b[1m517/517\u001b[0m \u001b[32m━━━━━━━━━━━━━━━━━━━━\u001b[0m\u001b[37m\u001b[0m \u001b[1m37s\u001b[0m 71ms/step - accuracy: 0.9172 - loss: 0.2246 - val_accuracy: 0.9066 - val_loss: 0.2764\n",
            "Epoch 10/15\n",
            "\u001b[1m517/517\u001b[0m \u001b[32m━━━━━━━━━━━━━━━━━━━━\u001b[0m\u001b[37m\u001b[0m \u001b[1m33s\u001b[0m 65ms/step - accuracy: 0.9312 - loss: 0.2016 - val_accuracy: 0.9061 - val_loss: 0.2826\n",
            "Epoch 11/15\n",
            "\u001b[1m517/517\u001b[0m \u001b[32m━━━━━━━━━━━━━━━━━━━━\u001b[0m\u001b[37m\u001b[0m \u001b[1m33s\u001b[0m 64ms/step - accuracy: 0.9314 - loss: 0.1978 - val_accuracy: 0.9056 - val_loss: 0.2736\n",
            "Epoch 12/15\n",
            "\u001b[1m517/517\u001b[0m \u001b[32m━━━━━━━━━━━━━━━━━━━━\u001b[0m\u001b[37m\u001b[0m \u001b[1m36s\u001b[0m 71ms/step - accuracy: 0.9358 - loss: 0.1844 - val_accuracy: 0.9124 - val_loss: 0.2609\n",
            "Epoch 13/15\n",
            "\u001b[1m517/517\u001b[0m \u001b[32m━━━━━━━━━━━━━━━━━━━━\u001b[0m\u001b[37m\u001b[0m \u001b[1m32s\u001b[0m 63ms/step - accuracy: 0.9395 - loss: 0.1640 - val_accuracy: 0.9008 - val_loss: 0.2813\n",
            "Epoch 14/15\n",
            "\u001b[1m517/517\u001b[0m \u001b[32m━━━━━━━━━━━━━━━━━━━━\u001b[0m\u001b[37m\u001b[0m \u001b[1m34s\u001b[0m 66ms/step - accuracy: 0.9426 - loss: 0.1698 - val_accuracy: 0.9136 - val_loss: 0.2674\n",
            "Epoch 15/15\n",
            "\u001b[1m517/517\u001b[0m \u001b[32m━━━━━━━━━━━━━━━━━━━━\u001b[0m\u001b[37m\u001b[0m \u001b[1m34s\u001b[0m 66ms/step - accuracy: 0.9476 - loss: 0.1435 - val_accuracy: 0.9093 - val_loss: 0.2728\n",
            "Epoch 1/15\n",
            "\u001b[1m517/517\u001b[0m \u001b[32m━━━━━━━━━━━━━━━━━━━━\u001b[0m\u001b[37m\u001b[0m \u001b[1m76s\u001b[0m 104ms/step - accuracy: 0.6361 - loss: 2.1077 - val_accuracy: 0.8496 - val_loss: 0.6288\n",
            "Epoch 2/15\n",
            "\u001b[1m517/517\u001b[0m \u001b[32m━━━━━━━━━━━━━━━━━━━━\u001b[0m\u001b[37m\u001b[0m \u001b[1m36s\u001b[0m 69ms/step - accuracy: 0.8357 - loss: 0.5139 - val_accuracy: 0.8668 - val_loss: 0.5109\n",
            "Epoch 3/15\n",
            "\u001b[1m517/517\u001b[0m \u001b[32m━━━━━━━━━━━━━━━━━━━━\u001b[0m\u001b[37m\u001b[0m \u001b[1m37s\u001b[0m 71ms/step - accuracy: 0.8716 - loss: 0.3757 - val_accuracy: 0.8908 - val_loss: 0.3946\n",
            "Epoch 4/15\n",
            "\u001b[1m517/517\u001b[0m \u001b[32m━━━━━━━━━━━━━━━━━━━━\u001b[0m\u001b[37m\u001b[0m \u001b[1m37s\u001b[0m 71ms/step - accuracy: 0.8982 - loss: 0.2848 - val_accuracy: 0.9047 - val_loss: 0.3171\n",
            "Epoch 5/15\n",
            "\u001b[1m517/517\u001b[0m \u001b[32m━━━━━━━━━━━━━━━━━━━━\u001b[0m\u001b[37m\u001b[0m \u001b[1m35s\u001b[0m 67ms/step - accuracy: 0.9223 - loss: 0.2274 - val_accuracy: 0.9081 - val_loss: 0.2892\n",
            "Epoch 6/15\n",
            "\u001b[1m517/517\u001b[0m \u001b[32m━━━━━━━━━━━━━━━━━━━━\u001b[0m\u001b[37m\u001b[0m \u001b[1m37s\u001b[0m 71ms/step - accuracy: 0.9352 - loss: 0.1808 - val_accuracy: 0.9153 - val_loss: 0.2712\n",
            "Epoch 7/15\n",
            "\u001b[1m517/517\u001b[0m \u001b[32m━━━━━━━━━━━━━━━━━━━━\u001b[0m\u001b[37m\u001b[0m \u001b[1m41s\u001b[0m 79ms/step - accuracy: 0.9477 - loss: 0.1509 - val_accuracy: 0.9178 - val_loss: 0.2577\n",
            "Epoch 8/15\n",
            "\u001b[1m517/517\u001b[0m \u001b[32m━━━━━━━━━━━━━━━━━━━━\u001b[0m\u001b[37m\u001b[0m \u001b[1m41s\u001b[0m 79ms/step - accuracy: 0.9561 - loss: 0.1269 - val_accuracy: 0.9226 - val_loss: 0.2420\n",
            "Epoch 9/15\n",
            "\u001b[1m517/517\u001b[0m \u001b[32m━━━━━━━━━━━━━━━━━━━━\u001b[0m\u001b[37m\u001b[0m \u001b[1m35s\u001b[0m 68ms/step - accuracy: 0.9617 - loss: 0.1077 - val_accuracy: 0.9233 - val_loss: 0.2422\n",
            "Epoch 10/15\n",
            "\u001b[1m517/517\u001b[0m \u001b[32m━━━━━━━━━━━━━━━━━━━━\u001b[0m\u001b[37m\u001b[0m \u001b[1m36s\u001b[0m 70ms/step - accuracy: 0.9690 - loss: 0.0920 - val_accuracy: 0.9323 - val_loss: 0.2209\n",
            "Epoch 11/15\n",
            "\u001b[1m517/517\u001b[0m \u001b[32m━━━━━━━━━━━━━━━━━━━━\u001b[0m\u001b[37m\u001b[0m \u001b[1m37s\u001b[0m 71ms/step - accuracy: 0.9772 - loss: 0.0718 - val_accuracy: 0.9306 - val_loss: 0.2282\n",
            "Epoch 12/15\n",
            "\u001b[1m517/517\u001b[0m \u001b[32m━━━━━━━━━━━━━━━━━━━━\u001b[0m\u001b[37m\u001b[0m \u001b[1m43s\u001b[0m 76ms/step - accuracy: 0.9753 - loss: 0.0711 - val_accuracy: 0.9345 - val_loss: 0.2095\n",
            "Epoch 13/15\n",
            "\u001b[1m517/517\u001b[0m \u001b[32m━━━━━━━━━━━━━━━━━━━━\u001b[0m\u001b[37m\u001b[0m \u001b[1m37s\u001b[0m 71ms/step - accuracy: 0.9804 - loss: 0.0599 - val_accuracy: 0.9357 - val_loss: 0.2196\n",
            "Epoch 14/15\n",
            "\u001b[1m517/517\u001b[0m \u001b[32m━━━━━━━━━━━━━━━━━━━━\u001b[0m\u001b[37m\u001b[0m \u001b[1m40s\u001b[0m 70ms/step - accuracy: 0.9825 - loss: 0.0545 - val_accuracy: 0.9379 - val_loss: 0.2102\n",
            "Epoch 15/15\n",
            "\u001b[1m517/517\u001b[0m \u001b[32m━━━━━━━━━━━━━━━━━━━━\u001b[0m\u001b[37m\u001b[0m \u001b[1m42s\u001b[0m 72ms/step - accuracy: 0.9851 - loss: 0.0460 - val_accuracy: 0.9389 - val_loss: 0.2068\n"
          ]
        }
      ]
    },
    {
      "cell_type": "code",
      "source": [
        "!cp -r \"/content/drive/MyDrive/Colab Notebooks/plant_village_datatset/archive (7)/PlantVillage/\" /content/\n",
        "dataset_path = \"/content/PlantVillage/\""
      ],
      "metadata": {
        "id": "BrRlhswz5ohy"
      },
      "execution_count": 14,
      "outputs": []
    },
    {
      "cell_type": "code",
      "source": [
        "from google.colab import drive\n",
        "drive.mount('/content/drive')\n"
      ],
      "metadata": {
        "colab": {
          "base_uri": "https://localhost:8080/"
        },
        "id": "zJbuToNA9Rcl",
        "outputId": "45177cdd-1864-4de6-d633-43eaf15c1b8c"
      },
      "execution_count": 7,
      "outputs": [
        {
          "output_type": "stream",
          "name": "stdout",
          "text": [
            "Drive already mounted at /content/drive; to attempt to forcibly remount, call drive.mount(\"/content/drive\", force_remount=True).\n"
          ]
        }
      ]
    },
    {
      "cell_type": "code",
      "source": [
        "!ls \"/content/drive/MyDrive/Colab Notebooks\"\n",
        "\n"
      ],
      "metadata": {
        "colab": {
          "base_uri": "https://localhost:8080/"
        },
        "id": "V3zcLpHaD5B7",
        "outputId": "0289a497-6d6c-4fcd-8eab-95825d840f1e"
      },
      "execution_count": 8,
      "outputs": [
        {
          "output_type": "stream",
          "name": "stdout",
          "text": [
            "'ML PROJECT SHEET.ipynb'\t    plant_village_datatset\n",
            " plant_disease_mobilenet_color.h5\n"
          ]
        }
      ]
    },
    {
      "cell_type": "code",
      "source": [
        "from tensorflow.keras.models import load_model\n",
        "from tensorflow.keras.optimizers import Adam\n",
        "\n",
        "# Load saved color model\n",
        "model_color = load_model(\"/content/drive/MyDrive/Colab Notebooks/plant_disease_mobilenet_color.h5\")\n"
      ],
      "metadata": {
        "colab": {
          "base_uri": "https://localhost:8080/"
        },
        "id": "gnZ3i0YfEMn0",
        "outputId": "9b2b0869-e2ca-493e-8831-0c9fc64fb06c"
      },
      "execution_count": 9,
      "outputs": [
        {
          "output_type": "stream",
          "name": "stderr",
          "text": [
            "WARNING:absl:Compiled the loaded model, but the compiled metrics have yet to be built. `model.compile_metrics` will be empty until you train or evaluate the model.\n"
          ]
        }
      ]
    },
    {
      "cell_type": "code",
      "source": [
        "import matplotlib.pyplot as plt\n",
        "\n",
        "# ====== GRAYSCALE MODEL ======\n",
        "plt.figure(figsize=(8, 4))\n",
        "plt.plot(history_gray.history['accuracy'], label='Train Accuracy')\n",
        "plt.plot(history_gray.history['val_accuracy'], label='Validation Accuracy')\n",
        "plt.title('Grayscale Model Accuracy')\n",
        "plt.xlabel('Epochs')\n",
        "plt.ylabel('Accuracy')\n",
        "plt.legend()\n",
        "plt.show()\n",
        "\n",
        "plt.figure(figsize=(8, 4))\n",
        "plt.plot(history_gray.history['loss'], label='Train Loss')\n",
        "plt.plot(history_gray.history['val_loss'], label='Validation Loss')\n",
        "plt.title('Grayscale Model Loss')\n",
        "plt.xlabel('Epochs')\n",
        "plt.ylabel('Loss')\n",
        "plt.legend()\n",
        "plt.show()\n",
        "\n",
        "\n",
        "# ====== SEGMENTED MODEL ======\n",
        "plt.figure(figsize=(8, 4))\n",
        "plt.plot(history_seg.history['accuracy'], label='Train Accuracy')\n",
        "plt.plot(history_seg.history['val_accuracy'], label='Validation Accuracy')\n",
        "plt.title('Segmented Model Accuracy')\n",
        "plt.xlabel('Epochs')\n",
        "plt.ylabel('Accuracy')\n",
        "plt.legend()\n",
        "plt.show()\n",
        "\n",
        "plt.figure(figsize=(8, 4))\n",
        "plt.plot(history_seg.history['loss'], label='Train Loss')\n",
        "plt.plot(history_seg.history['val_loss'], label='Validation Loss')\n",
        "plt.title('Segmented Model Loss')\n",
        "plt.xlabel('Epochs')\n",
        "plt.ylabel('Loss')\n",
        "plt.legend()\n",
        "plt.show()\n"
      ],
      "metadata": {
        "colab": {
          "base_uri": "https://localhost:8080/",
          "height": 1000
        },
        "id": "VMlkKHvnOux9",
        "outputId": "4c3777d4-3359-42c0-b08b-de1beb8ebbcf"
      },
      "execution_count": 15,
      "outputs": [
        {
          "output_type": "display_data",
          "data": {
            "text/plain": [
              "<Figure size 800x400 with 1 Axes>"
            ],
            "image/png": "[encoded data removed]"
          },
          "metadata": {}
        },
        {
          "output_type": "display_data",
          "data": {
            "text/plain": [
              "<Figure size 800x400 with 1 Axes>"
            ],
            "image/png": "[encoded data removed]"
          },
          "metadata": {}
        },
        {
          "output_type": "display_data",
          "data": {
            "text/plain": [
              "<Figure size 800x400 with 1 Axes>"
            ],
            "image/png": "[encoded data removed]"
          },
          "metadata": {}
        },
        {
          "output_type": "display_data",
          "data": {
            "text/plain": [
              "<Figure size 800x400 with 1 Axes>"
            ],
            "image/png": "[encoded data removed]"
          },
          "metadata": {}
        }
      ]
    }
  ]
}