{
  "cells": [
    {
      "cell_type": "markdown",
      "metadata": {
        "id": "view-in-github",
        "colab_type": "text"
      },
      "source": [
        "<a href=\"https://colab.research.google.com/github/Megs130805/machine-learning/blob/main/ML_PROJECT_SHEET_1st.ipynb\" target=\"_parent\"><img src=\"https://colab.research.google.com/assets/colab-badge.svg\" alt=\"Open In Colab\"/></a>"
      ]
    },
    {
      "cell_type": "code",
      "execution_count": null,
      "metadata": {
        "colab": {
          "base_uri": "https://localhost:8080/"
        },
        "id": "C75Rit9_nQyi",
        "outputId": "19f6da0f-27c7-41d2-9130-7ff97f32f3a3"
      },
      "outputs": [
        {
          "name": "stdout",
          "output_type": "stream",
          "text": [
            "Mounted at /content/drive\n"
          ]
        }
      ],
      "source": [
        "from google.colab import drive\n",
        "drive.mount('/content/drive')\n"
      ]
    },
    {
      "cell_type": "code",
      "execution_count": null,
      "metadata": {
        "id": "8jcK4j5w0LcP"
      },
      "outputs": [],
      "source": [
        "dataset_path = '/content/drive/MyDrive/Colab Notebooks/plant_village_datatset/archive (7)/PlantVillage/'\n"
      ]
    },
    {
      "cell_type": "code",
      "execution_count": null,
      "metadata": {
        "colab": {
          "base_uri": "https://localhost:8080/"
        },
        "id": "yqxJqEYN1bL5",
        "outputId": "6ea3d343-2efc-49db-fec1-36090058829e"
      },
      "outputs": [
        {
          "name": "stdout",
          "output_type": "stream",
          "text": [
            "['Tomato__Tomato_YellowLeaf__Curl_Virus', 'Tomato__Tomato_mosaic_virus', 'Tomato_Septoria_leaf_spot', 'Tomato__Target_Spot', 'Tomato_Leaf_Mold', 'Tomato_Spider_mites_Two_spotted_spider_mite', 'Tomato_Late_blight', 'Tomato_Early_blight', 'Tomato_Bacterial_spot', 'Tomato_healthy', 'Potato___healthy', 'Potato___Late_blight', 'Pepper__bell___Bacterial_spot', 'Pepper__bell___healthy', 'Potato___Early_blight']\n"
          ]
        }
      ],
      "source": [
        "import os\n",
        "\n",
        "print(os.listdir(dataset_path))\n",
        "\n"
      ]
    },
    {
      "cell_type": "code",
      "execution_count": null,
      "metadata": {
        "id": "BTRk0pMb50Db"
      },
      "outputs": [],
      "source": [
        "!cp -r \"/content/drive/MyDrive/Colab Notebooks/plant_village_datatset/archive (7)/PlantVillage/\" /content/\n",
        "dataset_path = \"/content/PlantVillage/\"\n",
        "\n"
      ]
    },
    {
      "cell_type": "code",
      "execution_count": null,
      "metadata": {
        "id": "lV_fypEb2Jr3"
      },
      "outputs": [],
      "source": [
        "import os\n",
        "import matplotlib.pyplot as plt\n",
        "from tensorflow.keras.preprocessing.image import ImageDataGenerator\n",
        "from tensorflow.keras.models import Model\n",
        "from tensorflow.keras.layers import Dense, GlobalAveragePooling2D, Dropout\n",
        "from tensorflow.keras.applications import MobileNetV2\n",
        "from tensorflow.keras.optimizers import Adam\n",
        "import os\n",
        "import random\n",
        "import shutil\n",
        "from tensorflow.keras.preprocessing.image import ImageDataGenerator\n",
        "\n",
        "\n"
      ]
    },
    {
      "cell_type": "markdown",
      "metadata": {
        "id": "ep9UzIwL6Uhl"
      },
      "source": []
    },
    {
      "cell_type": "code",
      "execution_count": null,
      "metadata": {
        "id": "2AcKE1n_8sus"
      },
      "outputs": [],
      "source": [
        "original_dir = \"/content/PlantVillage/\"\n",
        "test_dir = \"/content/PlantVillage_test/\"\n",
        "\n",
        "os.makedirs(test_dir, exist_ok=True)\n"
      ]
    },
    {
      "cell_type": "code",
      "execution_count": null,
      "metadata": {
        "id": "xb1OKO7F2Lyc"
      },
      "outputs": [],
      "source": [
        "for class_name in os.listdir(original_dir):\n",
        "    class_path = os.path.join(original_dir, class_name)\n",
        "    if not os.path.isdir(class_path):\n",
        "        continue\n",
        "\n",
        "    images = os.listdir(class_path)\n",
        "    random.shuffle(images)\n",
        "    n_test = int(0.1 * len(images))  # 10% of images\n",
        "\n",
        "    test_images = images[:n_test]\n",
        "\n",
        "    # create class folder in test_dir\n",
        "    test_class_dir = os.path.join(test_dir, class_name)\n",
        "    os.makedirs(test_class_dir, exist_ok=True)\n",
        "\n",
        "    # move images to test folder\n",
        "    for img in test_images:\n",
        "        shutil.move(os.path.join(class_path, img), os.path.join(test_class_dir, img))\n"
      ]
    },
    {
      "cell_type": "code",
      "execution_count": null,
      "metadata": {
        "colab": {
          "base_uri": "https://localhost:8080/"
        },
        "id": "UF8Upxiq28Np",
        "outputId": "9730b173-2656-48e2-c904-2386ef8afa1f"
      },
      "outputs": [
        {
          "name": "stdout",
          "output_type": "stream",
          "text": [
            "Found 16262 images belonging to 15 classes.\n",
            "Found 2318 images belonging to 15 classes.\n",
            "Found 2058 images belonging to 15 classes.\n"
          ]
        }
      ],
      "source": [
        "img_size = (224, 224)\n",
        "batch_size = 32\n",
        "\n",
        "# Train + Validation\n",
        "train_val_datagen = ImageDataGenerator(\n",
        "    rescale=1./255,\n",
        "    rotation_range=20,\n",
        "    zoom_range=0.2,\n",
        "    width_shift_range=0.2,\n",
        "    height_shift_range=0.2,\n",
        "    horizontal_flip=True,\n",
        "    validation_split=0.125  # ~12.5% of remaining images for validation\n",
        ")\n",
        "\n",
        "train_generator = train_val_datagen.flow_from_directory(\n",
        "    original_dir,\n",
        "    target_size=img_size,\n",
        "    batch_size=batch_size,\n",
        "    subset='training',\n",
        "    color_mode='rgb'\n",
        ")\n",
        "\n",
        "val_generator = train_val_datagen.flow_from_directory(\n",
        "    original_dir,\n",
        "    target_size=img_size,\n",
        "    batch_size=batch_size,\n",
        "    subset='validation',\n",
        "    color_mode='rgb'\n",
        ")\n",
        "\n",
        "# Test set\n",
        "test_datagen = ImageDataGenerator(rescale=1./255)\n",
        "\n",
        "test_generator = test_datagen.flow_from_directory(\n",
        "    test_dir,\n",
        "    target_size=img_size,\n",
        "    batch_size=batch_size,\n",
        "    color_mode='rgb',\n",
        "    shuffle=False\n",
        ")\n",
        "\n"
      ]
    },
    {
      "cell_type": "code",
      "execution_count": null,
      "metadata": {
        "colab": {
          "base_uri": "https://localhost:8080/"
        },
        "id": "NHy4UGOh2_mO",
        "outputId": "d3d5c9d1-2cb4-4300-e83e-0899ad047fd0"
      },
      "outputs": [
        {
          "name": "stdout",
          "output_type": "stream",
          "text": [
            "Downloading data from https://storage.googleapis.com/tensorflow/keras-applications/mobilenet_v2/mobilenet_v2_weights_tf_dim_ordering_tf_kernels_1.0_224_no_top.h5\n",
            "\u001b[1m9406464/9406464\u001b[0m \u001b[32m━━━━━━━━━━━━━━━━━━━━\u001b[0m\u001b[37m\u001b[0m \u001b[1m0s\u001b[0m 0us/step\n"
          ]
        }
      ],
      "source": [
        "from tensorflow.keras.applications import MobileNetV2\n",
        "from tensorflow.keras.layers import Dense, GlobalAveragePooling2D, Dropout\n",
        "from tensorflow.keras.models import Model\n",
        "\n",
        "# Load pretrained MobileNetV2 without top layers\n",
        "base_model = MobileNetV2(weights='imagenet', include_top=False, input_shape=(224,224,3))\n",
        "base_model.trainable = False  # Freeze base layers for feature extraction\n",
        "\n",
        "# Add custom classification layers\n",
        "x = base_model.output\n",
        "x = GlobalAveragePooling2D()(x)\n",
        "x = Dense(128, activation='relu')(x)\n",
        "x = Dropout(0.3)(x)\n",
        "predictions = Dense(train_generator.num_classes, activation='softmax')(x)\n",
        "\n",
        "# Complete model\n",
        "model = Model(inputs=base_model.input, outputs=predictions)\n"
      ]
    },
    {
      "cell_type": "code",
      "execution_count": null,
      "metadata": {
        "id": "cKe1WEzk3C9b"
      },
      "outputs": [],
      "source": [
        "from tensorflow.keras.optimizers import Adam\n",
        "\n",
        "model.compile(\n",
        "    optimizer=Adam(learning_rate=0.001),\n",
        "    loss='categorical_crossentropy',\n",
        "    metrics=['accuracy']\n",
        ")\n",
        "\n"
      ]
    },
    {
      "cell_type": "code",
      "execution_count": null,
      "metadata": {
        "colab": {
          "base_uri": "https://localhost:8080/"
        },
        "id": "5GEfuTD83XsN",
        "outputId": "4ccf60c7-6cf3-43f7-e7e8-70d4e75a7645"
      },
      "outputs": [
        {
          "name": "stderr",
          "output_type": "stream",
          "text": [
            "/usr/local/lib/python3.12/dist-packages/keras/src/trainers/data_adapters/py_dataset_adapter.py:121: UserWarning: Your `PyDataset` class should call `super().__init__(**kwargs)` in its constructor. `**kwargs` can include `workers`, `use_multiprocessing`, `max_queue_size`. Do not pass these arguments to `fit()`, as they will be ignored.\n",
            "  self._warn_if_super_not_called()\n"
          ]
        },
        {
          "name": "stdout",
          "output_type": "stream",
          "text": [
            "Epoch 1/15\n",
            "\u001b[1m509/509\u001b[0m \u001b[32m━━━━━━━━━━━━━━━━━━━━\u001b[0m\u001b[37m\u001b[0m \u001b[1m953s\u001b[0m 2s/step - accuracy: 0.5926 - loss: 1.3108 - val_accuracy: 0.8443 - val_loss: 0.4684\n",
            "Epoch 2/15\n",
            "\u001b[1m509/509\u001b[0m \u001b[32m━━━━━━━━━━━━━━━━━━━━\u001b[0m\u001b[37m\u001b[0m \u001b[1m953s\u001b[0m 2s/step - accuracy: 0.8059 - loss: 0.5953 - val_accuracy: 0.8727 - val_loss: 0.3806\n",
            "Epoch 3/15\n",
            "\u001b[1m509/509\u001b[0m \u001b[32m━━━━━━━━━━━━━━━━━━━━\u001b[0m\u001b[37m\u001b[0m \u001b[1m932s\u001b[0m 2s/step - accuracy: 0.8321 - loss: 0.4978 - val_accuracy: 0.8762 - val_loss: 0.3771\n",
            "Epoch 4/15\n",
            "\u001b[1m509/509\u001b[0m \u001b[32m━━━━━━━━━━━━━━━━━━━━\u001b[0m\u001b[37m\u001b[0m \u001b[1m936s\u001b[0m 2s/step - accuracy: 0.8468 - loss: 0.4508 - val_accuracy: 0.8770 - val_loss: 0.3500\n",
            "Epoch 5/15\n",
            "\u001b[1m509/509\u001b[0m \u001b[32m━━━━━━━━━━━━━━━━━━━━\u001b[0m\u001b[37m\u001b[0m \u001b[1m930s\u001b[0m 2s/step - accuracy: 0.8652 - loss: 0.4086 - val_accuracy: 0.8844 - val_loss: 0.3413\n",
            "Epoch 6/15\n",
            "\u001b[1m509/509\u001b[0m \u001b[32m━━━━━━━━━━━━━━━━━━━━\u001b[0m\u001b[37m\u001b[0m \u001b[1m944s\u001b[0m 2s/step - accuracy: 0.8666 - loss: 0.3932 - val_accuracy: 0.8947 - val_loss: 0.2988\n",
            "Epoch 7/15\n",
            "\u001b[1m509/509\u001b[0m \u001b[32m━━━━━━━━━━━━━━━━━━━━\u001b[0m\u001b[37m\u001b[0m \u001b[1m970s\u001b[0m 2s/step - accuracy: 0.8731 - loss: 0.3749 - val_accuracy: 0.8939 - val_loss: 0.3087\n",
            "Epoch 8/15\n",
            "\u001b[1m509/509\u001b[0m \u001b[32m━━━━━━━━━━━━━━━━━━━━\u001b[0m\u001b[37m\u001b[0m \u001b[1m950s\u001b[0m 2s/step - accuracy: 0.8772 - loss: 0.3685 - val_accuracy: 0.8934 - val_loss: 0.3045\n",
            "Epoch 9/15\n",
            "\u001b[1m509/509\u001b[0m \u001b[32m━━━━━━━━━━━━━━━━━━━━\u001b[0m\u001b[37m\u001b[0m \u001b[1m946s\u001b[0m 2s/step - accuracy: 0.8735 - loss: 0.3722 - val_accuracy: 0.8982 - val_loss: 0.2944\n",
            "Epoch 10/15\n",
            "\u001b[1m509/509\u001b[0m \u001b[32m━━━━━━━━━━━━━━━━━━━━\u001b[0m\u001b[37m\u001b[0m \u001b[1m914s\u001b[0m 2s/step - accuracy: 0.8788 - loss: 0.3487 - val_accuracy: 0.8960 - val_loss: 0.2931\n",
            "Epoch 11/15\n",
            "\u001b[1m509/509\u001b[0m \u001b[32m━━━━━━━━━━━━━━━━━━━━\u001b[0m\u001b[37m\u001b[0m \u001b[1m935s\u001b[0m 2s/step - accuracy: 0.8821 - loss: 0.3405 - val_accuracy: 0.9085 - val_loss: 0.2741\n",
            "Epoch 12/15\n",
            "\u001b[1m509/509\u001b[0m \u001b[32m━━━━━━━━━━━━━━━━━━━━\u001b[0m\u001b[37m\u001b[0m \u001b[1m918s\u001b[0m 2s/step - accuracy: 0.8895 - loss: 0.3279 - val_accuracy: 0.8861 - val_loss: 0.3180\n",
            "Epoch 13/15\n",
            "\u001b[1m509/509\u001b[0m \u001b[32m━━━━━━━━━━━━━━━━━━━━\u001b[0m\u001b[37m\u001b[0m \u001b[1m922s\u001b[0m 2s/step - accuracy: 0.8922 - loss: 0.3151 - val_accuracy: 0.9103 - val_loss: 0.2580\n",
            "Epoch 14/15\n",
            "\u001b[1m509/509\u001b[0m \u001b[32m━━━━━━━━━━━━━━━━━━━━\u001b[0m\u001b[37m\u001b[0m \u001b[1m925s\u001b[0m 2s/step - accuracy: 0.8902 - loss: 0.3171 - val_accuracy: 0.8947 - val_loss: 0.2897\n",
            "Epoch 15/15\n",
            "\u001b[1m509/509\u001b[0m \u001b[32m━━━━━━━━━━━━━━━━━━━━\u001b[0m\u001b[37m\u001b[0m \u001b[1m949s\u001b[0m 2s/step - accuracy: 0.8906 - loss: 0.3148 - val_accuracy: 0.9068 - val_loss: 0.2723\n"
          ]
        }
      ],
      "source": [
        "history = model.fit(\n",
        "    train_generator,\n",
        "    validation_data=val_generator,\n",
        "    epochs=15\n",
        ")\n",
        "\n"
      ]
    },
    {
      "cell_type": "code",
      "execution_count": null,
      "metadata": {
        "colab": {
          "background_save": true,
          "base_uri": "https://localhost:8080/"
        },
        "id": "4jGOOTca4wVp",
        "outputId": "f01af93e-26fc-4c38-934a-a5a74d029594"
      },
      "outputs": [
        {
          "name": "stdout",
          "output_type": "stream",
          "text": [
            "Epoch 1/15\n",
            "\u001b[1m509/509\u001b[0m \u001b[32m━━━━━━━━━━━━━━━━━━━━\u001b[0m\u001b[37m\u001b[0m \u001b[1m1330s\u001b[0m 3s/step - accuracy: 0.5969 - loss: 1.9143 - val_accuracy: 0.8714 - val_loss: 0.3586\n",
            "Epoch 2/15\n",
            "\u001b[1m509/509\u001b[0m \u001b[32m━━━━━━━━━━━━━━━━━━━━\u001b[0m\u001b[37m\u001b[0m \u001b[1m1349s\u001b[0m 3s/step - accuracy: 0.8201 - loss: 0.5474 - val_accuracy: 0.8796 - val_loss: 0.3576\n",
            "Epoch 3/15\n",
            "\u001b[1m509/509\u001b[0m \u001b[32m━━━━━━━━━━━━━━━━━━━━\u001b[0m\u001b[37m\u001b[0m \u001b[1m1327s\u001b[0m 3s/step - accuracy: 0.8544 - loss: 0.4393 - val_accuracy: 0.8783 - val_loss: 0.3352\n",
            "Epoch 4/15\n",
            "\u001b[1m509/509\u001b[0m \u001b[32m━━━━━━━━━━━━━━━━━━━━\u001b[0m\u001b[37m\u001b[0m \u001b[1m1356s\u001b[0m 3s/step - accuracy: 0.8718 - loss: 0.3710 - val_accuracy: 0.8956 - val_loss: 0.3052\n",
            "Epoch 5/15\n",
            "\u001b[1m509/509\u001b[0m \u001b[32m━━━━━━━━━━━━━━━━━━━━\u001b[0m\u001b[37m\u001b[0m \u001b[1m1362s\u001b[0m 3s/step - accuracy: 0.8880 - loss: 0.3246 - val_accuracy: 0.9047 - val_loss: 0.2708\n",
            "Epoch 6/15\n",
            "\u001b[1m509/509\u001b[0m \u001b[32m━━━━━━━━━━━━━━━━━━━━\u001b[0m\u001b[37m\u001b[0m \u001b[1m1325s\u001b[0m 3s/step - accuracy: 0.9011 - loss: 0.2940 - val_accuracy: 0.9202 - val_loss: 0.2277\n",
            "Epoch 7/15\n",
            "\u001b[1m509/509\u001b[0m \u001b[32m━━━━━━━━━━━━━━━━━━━━\u001b[0m\u001b[37m\u001b[0m \u001b[1m1316s\u001b[0m 3s/step - accuracy: 0.9140 - loss: 0.2526 - val_accuracy: 0.9292 - val_loss: 0.1791\n",
            "Epoch 8/15\n",
            "\u001b[1m509/509\u001b[0m \u001b[32m━━━━━━━━━━━━━━━━━━━━\u001b[0m\u001b[37m\u001b[0m \u001b[1m1338s\u001b[0m 3s/step - accuracy: 0.9173 - loss: 0.2433 - val_accuracy: 0.9422 - val_loss: 0.1556\n",
            "Epoch 9/15\n",
            "\u001b[1m509/509\u001b[0m \u001b[32m━━━━━━━━━━━━━━━━━━━━\u001b[0m\u001b[37m\u001b[0m \u001b[1m1322s\u001b[0m 3s/step - accuracy: 0.9260 - loss: 0.2185 - val_accuracy: 0.9422 - val_loss: 0.1527\n",
            "Epoch 10/15\n",
            "\u001b[1m509/509\u001b[0m \u001b[32m━━━━━━━━━━━━━━━━━━━━\u001b[0m\u001b[37m\u001b[0m \u001b[1m1327s\u001b[0m 3s/step - accuracy: 0.9292 - loss: 0.2073 - val_accuracy: 0.9465 - val_loss: 0.1451\n",
            "Epoch 11/15\n",
            "\u001b[1m509/509\u001b[0m \u001b[32m━━━━━━━━━━━━━━━━━━━━\u001b[0m\u001b[37m\u001b[0m \u001b[1m1323s\u001b[0m 3s/step - accuracy: 0.9350 - loss: 0.1871 - val_accuracy: 0.9422 - val_loss: 0.1557\n",
            "Epoch 12/15\n",
            "\u001b[1m509/509\u001b[0m \u001b[32m━━━━━━━━━━━━━━━━━━━━\u001b[0m\u001b[37m\u001b[0m \u001b[1m1331s\u001b[0m 3s/step - accuracy: 0.9411 - loss: 0.1739 - val_accuracy: 0.9482 - val_loss: 0.1428\n",
            "Epoch 13/15\n",
            "\u001b[1m509/509\u001b[0m \u001b[32m━━━━━━━━━━━━━━━━━━━━\u001b[0m\u001b[37m\u001b[0m \u001b[1m1329s\u001b[0m 3s/step - accuracy: 0.9485 - loss: 0.1476 - val_accuracy: 0.9482 - val_loss: 0.1438\n",
            "Epoch 14/15\n",
            "\u001b[1m509/509\u001b[0m \u001b[32m━━━━━━━━━━━━━━━━━━━━\u001b[0m\u001b[37m\u001b[0m \u001b[1m1326s\u001b[0m 3s/step - accuracy: 0.9466 - loss: 0.1539 - val_accuracy: 0.9543 - val_loss: 0.1276\n",
            "Epoch 15/15\n",
            "\u001b[1m509/509\u001b[0m \u001b[32m━━━━━━━━━━━━━━━━━━━━\u001b[0m\u001b[37m\u001b[0m \u001b[1m1330s\u001b[0m 3s/step - accuracy: 0.9469 - loss: 0.1509 - val_accuracy: 0.9569 - val_loss: 0.1204\n"
          ]
        }
      ],
      "source": [
        "# Unfreeze last 50 layers for fine-tuning\n",
        "base_model.trainable = True\n",
        "for layer in base_model.layers[:-50]:\n",
        "    layer.trainable = False\n",
        "\n",
        "model.compile(\n",
        "    optimizer=Adam(learning_rate=1e-5),\n",
        "    loss='categorical_crossentropy',\n",
        "    metrics=['accuracy']\n",
        ")\n",
        "\n",
        "history_finetune = model.fit(\n",
        "    train_generator,\n",
        "    validation_data=val_generator,\n",
        "    epochs=15\n",
        ")\n",
        "\n"
      ]
    },
    {
      "cell_type": "code",
      "execution_count": null,
      "metadata": {
        "colab": {
          "background_save": true
        },
        "id": "n0POXJ2E4zU5",
        "outputId": "f968885e-fce4-4fde-8576-37b0571d2b79"
      },
      "outputs": [
        {
          "name": "stdout",
          "output_type": "stream",
          "text": [
            "\u001b[1m65/65\u001b[0m \u001b[32m━━━━━━━━━━━━━━━━━━━━\u001b[0m\u001b[37m\u001b[0m \u001b[1m80s\u001b[0m 1s/step - accuracy: 0.9585 - loss: 0.1298\n",
            "Test Accuracy: 94.61%\n"
          ]
        }
      ],
      "source": [
        "loss, acc = model.evaluate(test_generator)\n",
        "print(f\"Test Accuracy: {acc*100:.2f}%\")\n",
        "\n"
      ]
    },
    {
      "cell_type": "code",
      "execution_count": null,
      "metadata": {
        "colab": {
          "background_save": true
        },
        "id": "u6ReGaE39T1X",
        "outputId": "5b7d8e71-0db7-43eb-bce5-66d694c4f49a"
      },
      "outputs": [
        {
          "data": {
            "image/png": "[encoded data removed]",
            "text/plain": [
              "<Figure size 640x480 with 1 Axes>"
            ]
          },
          "metadata": {},
          "output_type": "display_data"
        },
        {
          "data": {
            "image/png": "[encoded data removed]",
            "text/plain": [
              "<Figure size 640x480 with 1 Axes>"
            ]
          },
          "metadata": {},
          "output_type": "display_data"
        }
      ],
      "source": [
        "import matplotlib.pyplot as plt\n",
        "\n",
        "# Plot accuracy\n",
        "plt.plot(history_finetune.history['accuracy'], label='Train Accuracy')\n",
        "plt.plot(history_finetune.history['val_accuracy'], label='Validation Accuracy')\n",
        "plt.title('Fine-Tuned Model Accuracy')\n",
        "plt.xlabel('Epochs')\n",
        "plt.ylabel('Accuracy')\n",
        "plt.legend()\n",
        "plt.show()\n",
        "\n",
        "# Plot loss\n",
        "plt.plot(history_finetune.history['loss'], label='Train Loss')\n",
        "plt.plot(history_finetune.history['val_loss'], label='Validation Loss')\n",
        "plt.title('Fine-Tuned Model Loss')\n",
        "plt.xlabel('Epochs')\n",
        "plt.ylabel('Loss')\n",
        "plt.legend()\n",
        "plt.show()\n"
      ]
    },
    {
      "cell_type": "code",
      "execution_count": null,
      "metadata": {
        "colab": {
          "background_save": true
        },
        "id": "4igRuVSX9Xla",
        "outputId": "83aae4d5-e973-4d32-967f-a521d2a1c2b6"
      },
      "outputs": [
        {
          "name": "stderr",
          "output_type": "stream",
          "text": [
            "WARNING:absl:You are saving your model as an HDF5 file via `model.save()` or `keras.saving.save_model(model)`. This file format is considered legacy. We recommend using instead the native Keras format, e.g. `model.save('my_model.keras')` or `keras.saving.save_model(model, 'my_model.keras')`. \n"
          ]
        }
      ],
      "source": [
        "model.save('/content/plant_disease_mobilenet_color.h5')\n",
        "# Optional: copy to Drive\n",
        "!cp /content/plant_disease_mobilenet_color.h5 \"/content/drive/MyDrive/Colab Notebooks/\"\n"
      ]
    },
    {
      "cell_type": "code",
      "execution_count": null,
      "metadata": {
        "colab": {
          "background_save": true
        },
        "id": "_Hjq_91AkcfV"
      },
      "outputs": [],
      "source": [
        "from google.colab import drive\n",
        "drive.flush_and_unmount()\n",
        "\n",
        "\n"
      ]
    },
    {
      "cell_type": "code",
      "execution_count": null,
      "metadata": {
        "colab": {
          "background_save": true
        },
        "id": "T5hrYKOSkuMg",
        "outputId": "7c9dab11-feb6-4784-c56c-55a4e026beae"
      },
      "outputs": [
        {
          "name": "stdout",
          "output_type": "stream",
          "text": [
            "fusermount: failed to unmount /content/drive: No such file or directory\n"
          ]
        }
      ],
      "source": [
        "!fusermount -u /content/drive\n"
      ]
    },
    {
      "cell_type": "code",
      "execution_count": null,
      "metadata": {
        "colab": {
          "background_save": true
        },
        "id": "6uIRKVAAk7-n"
      },
      "outputs": [],
      "source": [
        "!rm -rf /content/drive\n"
      ]
    },
    {
      "cell_type": "code",
      "execution_count": null,
      "metadata": {
        "colab": {
          "background_save": true
        },
        "id": "CAZBHw2Uk_Y-",
        "outputId": "6b575323-c1bf-461b-f2d6-9f439d60c3eb"
      },
      "outputs": [
        {
          "name": "stdout",
          "output_type": "stream",
          "text": [
            "Mounted at /content/drive\n"
          ]
        }
      ],
      "source": [
        "from google.colab import drive\n",
        "drive.mount('/content/drive')\n"
      ]
    },
    {
      "cell_type": "code",
      "execution_count": null,
      "metadata": {
        "colab": {
          "background_save": true
        },
        "id": "imUN_cQXr5wn",
        "outputId": "b036a2b9-3f57-4819-bf1d-d3574dd736e5"
      },
      "outputs": [
        {
          "name": "stdout",
          "output_type": "stream",
          "text": [
            "Deleted erroneous folders inside local_base\n"
          ]
        }
      ],
      "source": [
        "import shutil\n",
        "import os\n",
        "\n",
        "local_base = \"/content/PlantVillage/\"\n",
        "\n",
        "# Delete mistakenly included folders\n",
        "shutil.rmtree(os.path.join(local_base, \"PlantVillage_Gray\"), ignore_errors=True)\n",
        "shutil.rmtree(os.path.join(local_base, \"PlantVillage_Segmented\"), ignore_errors=True)\n",
        "\n",
        "print(\"Deleted erroneous folders inside local_base\")\n"
      ]
    },
    {
      "cell_type": "code",
      "execution_count": null,
      "metadata": {
        "colab": {
          "background_save": true
        },
        "id": "wvPUpeVKAZ4f"
      },
      "outputs": [],
      "source": []
    },
    {
      "cell_type": "code",
      "execution_count": null,
      "metadata": {
        "colab": {
          "background_save": true
        },
        "id": "z9Gqu0BpxjsW",
        "outputId": "21735d2f-b044-41c6-ecc6-1f2cc3fe083f"
      },
      "outputs": [
        {
          "name": "stdout",
          "output_type": "stream",
          "text": [
            "Drive unmounted successfully.\n"
          ]
        }
      ],
      "source": [
        "from google.colab import drive\n",
        "drive.flush_and_unmount()\n",
        "print(\"Drive unmounted successfully.\")\n"
      ]
    },
    {
      "cell_type": "code",
      "execution_count": null,
      "metadata": {
        "id": "77G3jNZtu9Ok"
      },
      "outputs": [],
      "source": [
        "# -------------------------------\n",
        "# Step 0: Mount Google Drive\n",
        "# -------------------------------\n",
        "from google.colab import drive\n",
        "drive.mount('/content/drive', force_remount=True)\n",
        "\n",
        "# -------------------------------\n",
        "# Step 1: Import libraries\n",
        "# -------------------------------\n",
        "import os\n",
        "import shutil\n",
        "import cv2\n",
        "from tqdm import tqdm\n",
        "\n",
        "# -------------------------------\n",
        "# Step 2: Define paths\n",
        "# -------------------------------\n",
        "# Original dataset in Drive\n",
        "original_dir = \"/content/drive/MyDrive/Colab Notebooks/plant_village_datatset/archive (7)/PlantVillage/\"\n",
        "\n",
        "# Local directories for fast processing\n",
        "local_base = \"/content/PlantVillage/\"\n",
        "gray_dir = os.path.join(local_base, \"PlantVillage_Gray\")\n",
        "segmented_dir = os.path.join(local_base, \"PlantVillage_Segmented\")\n",
        "\n",
        "# Remove old output dirs if they exist\n",
        "shutil.rmtree(gray_dir, ignore_errors=True)\n",
        "shutil.rmtree(segmented_dir, ignore_errors=True)\n",
        "\n",
        "# Make fresh output dirs\n",
        "os.makedirs(gray_dir, exist_ok=True)\n",
        "os.makedirs(segmented_dir, exist_ok=True)\n",
        "\n",
        "# -------------------------------\n",
        "# Step 3: Copy original dataset to /content/\n",
        "# -------------------------------\n",
        "for class_name in os.listdir(original_dir):\n",
        "    src = os.path.join(original_dir, class_name)\n",
        "    dst = os.path.join(local_base, class_name)\n",
        "    if os.path.isdir(src):\n",
        "        shutil.copytree(src, dst, dirs_exist_ok=True)\n",
        "\n",
        "# -------------------------------\n",
        "# Step 4: Preprocess images\n",
        "# -------------------------------\n",
        "output_dirs = [\"PlantVillage_Gray\", \"PlantVillage_Segmented\"]\n",
        "\n",
        "for class_name in tqdm(os.listdir(local_base), desc=\"Processing classes\"):\n",
        "    if class_name in output_dirs:\n",
        "        continue  # skip output folders\n",
        "\n",
        "    class_path = os.path.join(local_base, class_name)\n",
        "    if not os.path.isdir(class_path):\n",
        "        continue\n",
        "\n",
        "    # Create class folders in output directories\n",
        "    os.makedirs(os.path.join(gray_dir, class_name), exist_ok=True)\n",
        "    os.makedirs(os.path.join(segmented_dir, class_name), exist_ok=True)\n",
        "\n",
        "    for img_name in os.listdir(class_path):\n",
        "        img_path = os.path.join(class_path, img_name)\n",
        "        img = cv2.imread(img_path)\n",
        "        if img is None:\n",
        "            continue\n",
        "\n",
        "        # ---------- Grayscale ----------\n",
        "        gray = cv2.cvtColor(img, cv2.COLOR_BGR2GRAY)\n",
        "        cv2.imwrite(os.path.join(gray_dir, class_name, img_name), gray)\n",
        "\n",
        "        # ---------- Segmentation (green leaf mask) ----------\n",
        "        hsv = cv2.cvtColor(img, cv2.COLOR_BGR2HSV)\n",
        "        lower = (25, 40, 40)\n",
        "        upper = (85, 255, 255)\n",
        "        mask = cv2.inRange(hsv, lower, upper)\n",
        "        result = cv2.bitwise_and(img, img, mask=mask)\n",
        "        cv2.imwrite(os.path.join(segmented_dir, class_name, img_name), result)\n",
        "\n",
        "# -------------------------------\n",
        "# Step 5: Verify classes\n",
        "# -------------------------------\n",
        "print(\"Grayscale classes:\", sorted(os.listdir(gray_dir)))\n",
        "print(\"Segmented classes:\", sorted(os.listdir(segmented_dir)))\n",
        "\n",
        "# -------------------------------\n",
        "# Step 6: Copy processed datasets back to Drive\n",
        "# -------------------------------\n",
        "drive_base = \"/content/drive/MyDrive/Colab Notebooks/plant_village_datatset/\"\n",
        "\n",
        "shutil.copytree(gray_dir, os.path.join(drive_base, \"PlantVillage_Gray\"), dirs_exist_ok=True)\n",
        "shutil.copytree(segmented_dir, os.path.join(drive_base, \"PlantVillage_Segmented\"), dirs_exist_ok=True)\n",
        "\n",
        "print(\"✅ Preprocessing complete! Grayscale and segmented datasets are ready in /content/ and Drive.\")\n"
      ]
    },
    {
      "cell_type": "code",
      "execution_count": null,
      "metadata": {
        "id": "9N4_bNR04SYK"
      },
      "outputs": [],
      "source": [
        "import os\n",
        "\n",
        "gray_dir = \"/content/drive/MyDrive/Colab Notebooks/plant_village_datatset/PlantVillage_Gray\"\n",
        "segmented_dir = \"/content/drive/MyDrive/Colab Notebooks/plant_village_datatset/PlantVillage_Segmented\"\n",
        "\n",
        "print(\"Grayscale classes:\", sorted(os.listdir(gray_dir)))\n",
        "print(\"Segmented classes:\", sorted(os.listdir(segmented_dir)))\n",
        "\n",
        "print(\"Number of Grayscale classes:\", len(os.listdir(gray_dir)))\n",
        "print(\"Number of Segmented classes:\", len(os.listdir(segmented_dir)))\n",
        "\n"
      ]
    },
    {
      "cell_type": "code",
      "execution_count": null,
      "metadata": {
        "id": "HFRE_6-Y7T90"
      },
      "outputs": [],
      "source": [
        "for class_name in sorted(os.listdir(gray_dir)):\n",
        "    class_path = os.path.join(gray_dir, class_name)\n",
        "    num_images = len(os.listdir(class_path))\n",
        "    print(f\"Grayscale - {class_name}: {num_images} images\")\n",
        "\n",
        "for class_name in sorted(os.listdir(segmented_dir)):\n",
        "    class_path = os.path.join(segmented_dir, class_name)\n",
        "    num_images = len(os.listdir(class_path))\n",
        "    print(f\"Segmented - {class_name}: {num_images} images\")\n"
      ]
    },
    {
      "cell_type": "code",
      "execution_count": null,
      "metadata": {
        "id": "4fUtVa2jB-yi"
      },
      "outputs": [],
      "source": [
        "from google.colab import drive\n",
        "drive.flush_and_unmount()\n",
        "print(\"Drive unmounted successfully.\")\n"
      ]
    },
    {
      "cell_type": "code",
      "execution_count": null,
      "metadata": {
        "id": "KrIidMiDP_MU"
      },
      "outputs": [],
      "source": [
        "from google.colab import drive\n",
        "drive.mount('/content/drive', force_remount=True)"
      ]
    },
    {
      "cell_type": "code",
      "execution_count": null,
      "metadata": {
        "id": "ogIUaW6Efpn8"
      },
      "outputs": [],
      "source": [
        "from google.colab import drive\n",
        "drive.mount('/content/drive')"
      ]
    },
    {
      "cell_type": "code",
      "execution_count": null,
      "metadata": {
        "id": "QmOH93mGSEQR"
      },
      "outputs": [],
      "source": [
        "!cp -r \"/content/drive/MyDrive/Colab Notebooks/plant_village_datatset/PlantVillage_Gray\" \"/content/\"\n",
        "!cp -r \"/content/drive/MyDrive/Colab Notebooks/plant_village_datatset/PlantVillage_Segmented\" \"/content/\"\n"
      ]
    },
    {
      "cell_type": "code",
      "execution_count": null,
      "metadata": {
        "id": "Odg92SF7Q19Y"
      },
      "outputs": [],
      "source": [
        "from tensorflow.keras.applications import MobileNetV2\n",
        "from tensorflow.keras.layers import Dense, GlobalAveragePooling2D, Dropout, Input, Concatenate\n",
        "from tensorflow.keras.models import Model\n",
        "from tensorflow.keras.optimizers import Adam\n",
        "from tensorflow.keras.preprocessing.image import ImageDataGenerator\n",
        "\n",
        "# =============================\n",
        "# 1️⃣ Dataset paths & preprocessing\n",
        "# =============================\n",
        "gray_dir = \"/content/PlantVillage_Gray\"\n",
        "\n",
        "train_datagen_gray = ImageDataGenerator(rescale=1./255, validation_split=0.2)\n",
        "\n",
        "train_generator_gray = train_datagen_gray.flow_from_directory(\n",
        "    gray_dir,\n",
        "    target_size=(224, 224),\n",
        "    color_mode='grayscale',\n",
        "    batch_size=32,\n",
        "    class_mode='categorical',\n",
        "    subset='training'\n",
        ")\n",
        "\n",
        "val_generator_gray = train_datagen_gray.flow_from_directory(\n",
        "    gray_dir,\n",
        "    target_size=(224, 224),\n",
        "    color_mode='grayscale',\n",
        "    batch_size=32,\n",
        "    class_mode='categorical',\n",
        "    subset='validation'\n",
        ")\n",
        "\n",
        "# =============================\n",
        "# 2️⃣ Base Model Setup (MobileNetV2)\n",
        "# =============================\n",
        "base_model_gray = MobileNetV2(weights='imagenet', include_top=False, input_shape=(224,224,3))\n",
        "base_model_gray.trainable = False  # freeze initial layers\n",
        "\n",
        "# Convert grayscale input (1 channel → 3 channel)\n",
        "inputs_gray = Input(shape=(224,224,1))\n",
        "x = Concatenate()([inputs_gray, inputs_gray, inputs_gray])\n",
        "x = base_model_gray(x, training=False)\n",
        "x = GlobalAveragePooling2D()(x)\n",
        "x = Dense(128, activation='relu')(x)\n",
        "x = Dropout(0.3)(x)\n",
        "predictions_gray = Dense(train_generator_gray.num_classes, activation='softmax')(x)\n",
        "\n",
        "model_gray = Model(inputs=inputs_gray, outputs=predictions_gray)\n",
        "\n",
        "# =============================\n",
        "# 3️⃣ Compile & Train (Feature Extraction)\n",
        "# =============================\n",
        "model_gray.compile(\n",
        "    optimizer=Adam(learning_rate=0.001),\n",
        "    loss='categorical_crossentropy',\n",
        "    metrics=['accuracy']\n",
        ")\n",
        "\n",
        "history_gray = model_gray.fit(\n",
        "    train_generator_gray,\n",
        "    validation_data=val_generator_gray,\n",
        "    epochs=15\n",
        ")\n",
        "\n",
        "# =============================\n",
        "# 4️⃣ Fine-Tuning\n",
        "# =============================\n",
        "base_model_gray.trainable = True\n",
        "for layer in base_model_gray.layers[:-50]:\n",
        "    layer.trainable = False\n",
        "\n",
        "model_gray.compile(\n",
        "    optimizer=Adam(learning_rate=1e-5),\n",
        "    loss='categorical_crossentropy',\n",
        "    metrics=['accuracy']\n",
        ")\n",
        "\n",
        "history_finetune_gray = model_gray.fit(\n",
        "    train_generator_gray,\n",
        "    validation_data=val_generator_gray,\n",
        "    epochs=15\n",
        ")\n"
      ]
    },
    {
      "cell_type": "code",
      "execution_count": null,
      "metadata": {
        "id": "SOycSxzztKAD"
      },
      "outputs": [],
      "source": [
        "from tensorflow.keras.applications import MobileNetV2\n",
        "from tensorflow.keras.layers import Dense, GlobalAveragePooling2D, Dropout, Input, Concatenate\n",
        "from tensorflow.keras.models import Model\n",
        "from tensorflow.keras.optimizers import Adam\n",
        "from tensorflow.keras.preprocessing.image import ImageDataGenerator\n",
        "\n",
        "# =============================\n",
        "# 1️⃣ Dataset paths & preprocessing\n",
        "# =============================\n",
        "seg_dir = \"/content/PlantVillage_Segmented\"\n",
        "\n",
        "train_datagen_seg = ImageDataGenerator(rescale=1./255, validation_split=0.2)\n",
        "\n",
        "train_generator_seg = train_datagen_seg.flow_from_directory(\n",
        "    seg_dir,\n",
        "    target_size=(224, 224),\n",
        "    color_mode='rgb',\n",
        "    batch_size=32,\n",
        "    class_mode='categorical',\n",
        "    subset='training'\n",
        ")\n",
        "\n",
        "val_generator_seg = train_datagen_seg.flow_from_directory(\n",
        "    seg_dir,\n",
        "    target_size=(224, 224),\n",
        "    color_mode='rgb',\n",
        "    batch_size=32,\n",
        "    class_mode='categorical',\n",
        "    subset='validation'\n",
        ")\n",
        "\n",
        "# =============================\n",
        "# 2️⃣ Base Model Setup (MobileNetV2)\n",
        "# =============================\n",
        "base_model_seg = MobileNetV2(weights='imagenet', include_top=False, input_shape=(224,224,3))\n",
        "base_model_seg.trainable = False  # freeze initial layers\n",
        "\n",
        "inputs_seg = Input(shape=(224,224,3))\n",
        "x = base_model_seg(inputs_seg, training=False)\n",
        "x = GlobalAveragePooling2D()(x)\n",
        "x = Dense(128, activation='relu')(x)\n",
        "x = Dropout(0.3)(x)\n",
        "predictions_seg = Dense(train_generator_seg.num_classes, activation='softmax')(x)\n",
        "\n",
        "model_seg = Model(inputs=inputs_seg, outputs=predictions_seg)\n",
        "\n",
        "# =============================\n",
        "# 3️⃣ Compile & Train (Feature Extraction)\n",
        "# =============================\n",
        "model_seg.compile(\n",
        "    optimizer=Adam(learning_rate=0.001),\n",
        "    loss='categorical_crossentropy',\n",
        "    metrics=['accuracy']\n",
        ")\n",
        "\n",
        "history_seg = model_seg.fit(\n",
        "    train_generator_seg,\n",
        "    validation_data=val_generator_seg,\n",
        "    epochs=15\n",
        ")\n",
        "\n",
        "# =============================\n",
        "# 4️⃣ Fine-Tuning\n",
        "# =============================\n",
        "base_model_seg.trainable = True\n",
        "for layer in base_model_seg.layers[:-50]:\n",
        "    layer.trainable = False\n",
        "\n",
        "model_seg.compile(\n",
        "    optimizer=Adam(learning_rate=1e-5),\n",
        "    loss='categorical_crossentropy',\n",
        "    metrics=['accuracy']\n",
        ")\n",
        "\n",
        "history_finetune_seg = model_seg.fit(\n",
        "    train_generator_seg,\n",
        "    validation_data=val_generator_seg,\n",
        "    epochs=15\n",
        ")\n"
      ]
    },
    {
      "cell_type": "code",
      "execution_count": null,
      "metadata": {
        "id": "BrRlhswz5ohy"
      },
      "outputs": [],
      "source": [
        "!cp -r \"/content/drive/MyDrive/Colab Notebooks/plant_village_datatset/archive (7)/PlantVillage/\" /content/\n",
        "dataset_path = \"/content/PlantVillage/\""
      ]
    },
    {
      "cell_type": "code",
      "execution_count": null,
      "metadata": {
        "id": "zJbuToNA9Rcl"
      },
      "outputs": [],
      "source": [
        "from google.colab import drive\n",
        "drive.mount('/content/drive')\n"
      ]
    },
    {
      "cell_type": "code",
      "execution_count": null,
      "metadata": {
        "id": "V3zcLpHaD5B7"
      },
      "outputs": [],
      "source": [
        "!ls \"/content/drive/MyDrive/Colab Notebooks\"\n",
        "\n"
      ]
    },
    {
      "cell_type": "code",
      "execution_count": null,
      "metadata": {
        "id": "gnZ3i0YfEMn0"
      },
      "outputs": [],
      "source": [
        "from tensorflow.keras.models import load_model\n",
        "from tensorflow.keras.optimizers import Adam\n",
        "\n",
        "# Load saved color model\n",
        "model_color = load_model(\"/content/drive/MyDrive/Colab Notebooks/plant_disease_mobilenet_color.h5\")\n"
      ]
    },
    {
      "cell_type": "code",
      "execution_count": null,
      "metadata": {
        "id": "VMlkKHvnOux9"
      },
      "outputs": [],
      "source": [
        "import matplotlib.pyplot as plt\n",
        "\n",
        "# ====== GRAYSCALE MODEL ======\n",
        "plt.figure(figsize=(8, 4))\n",
        "plt.plot(history_gray.history['accuracy'], label='Train Accuracy')\n",
        "plt.plot(history_gray.history['val_accuracy'], label='Validation Accuracy')\n",
        "plt.title('Grayscale Model Accuracy')\n",
        "plt.xlabel('Epochs')\n",
        "plt.ylabel('Accuracy')\n",
        "plt.legend()\n",
        "plt.show()\n",
        "\n",
        "plt.figure(figsize=(8, 4))\n",
        "plt.plot(history_gray.history['loss'], label='Train Loss')\n",
        "plt.plot(history_gray.history['val_loss'], label='Validation Loss')\n",
        "plt.title('Grayscale Model Loss')\n",
        "plt.xlabel('Epochs')\n",
        "plt.ylabel('Loss')\n",
        "plt.legend()\n",
        "plt.show()\n",
        "\n",
        "\n",
        "# ====== SEGMENTED MODEL ======\n",
        "plt.figure(figsize=(8, 4))\n",
        "plt.plot(history_seg.history['accuracy'], label='Train Accuracy')\n",
        "plt.plot(history_seg.history['val_accuracy'], label='Validation Accuracy')\n",
        "plt.title('Segmented Model Accuracy')\n",
        "plt.xlabel('Epochs')\n",
        "plt.ylabel('Accuracy')\n",
        "plt.legend()\n",
        "plt.show()\n",
        "\n",
        "plt.figure(figsize=(8, 4))\n",
        "plt.plot(history_seg.history['loss'], label='Train Loss')\n",
        "plt.plot(history_seg.history['val_loss'], label='Validation Loss')\n",
        "plt.title('Segmented Model Loss')\n",
        "plt.xlabel('Epochs')\n",
        "plt.ylabel('Loss')\n",
        "plt.legend()\n",
        "plt.show()\n"
      ]
    }
  ],
  "metadata": {
    "accelerator": "GPU",
    "colab": {
      "gpuType": "T4",
      "provenance": [],
      "include_colab_link": true
    },
    "kernelspec": {
      "display_name": "Python 3",
      "name": "python3"
    },
    "language_info": {
      "name": "python"
    }
  },
  "nbformat": 4,
  "nbformat_minor": 0
}